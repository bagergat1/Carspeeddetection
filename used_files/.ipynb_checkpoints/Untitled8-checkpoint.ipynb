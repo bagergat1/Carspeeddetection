{
 "cells": [
  {
   "cell_type": "code",
   "execution_count": 1,
   "id": "418a7846-d679-4853-a5df-821dd973de30",
   "metadata": {},
   "outputs": [],
   "source": [
    "import os\n",
    "import shutil\n",
    "import pandas as pd\n",
    "import numpy as np"
   ]
  },
  {
   "cell_type": "code",
   "execution_count": 2,
   "id": "fd44180c-324b-479b-b91e-86b43f60b5a3",
   "metadata": {},
   "outputs": [],
   "source": [
    "#shutil.move(\"/home/bagergat/Desktop/graphsperminute.xlsx\",\"/home/bagergat/Desktop/Bitirme/used_files/\")"
   ]
  },
  {
   "cell_type": "code",
   "execution_count": 16,
   "id": "0fdb6298-343b-4d0f-895e-7440ebdbccbf",
   "metadata": {},
   "outputs": [
    {
     "data": {
      "text/html": [
       "<div>\n",
       "<style scoped>\n",
       "    .dataframe tbody tr th:only-of-type {\n",
       "        vertical-align: middle;\n",
       "    }\n",
       "\n",
       "    .dataframe tbody tr th {\n",
       "        vertical-align: top;\n",
       "    }\n",
       "\n",
       "    .dataframe thead th {\n",
       "        text-align: right;\n",
       "    }\n",
       "</style>\n",
       "<table border=\"1\" class=\"dataframe\">\n",
       "  <thead>\n",
       "    <tr style=\"text-align: right;\">\n",
       "      <th></th>\n",
       "      <th>1</th>\n",
       "      <th>2</th>\n",
       "      <th>3</th>\n",
       "      <th>4</th>\n",
       "      <th>5</th>\n",
       "      <th>6</th>\n",
       "      <th>7</th>\n",
       "      <th>8</th>\n",
       "    </tr>\n",
       "  </thead>\n",
       "  <tbody>\n",
       "    <tr>\n",
       "      <th>0</th>\n",
       "      <td>1.00</td>\n",
       "      <td>2.00</td>\n",
       "      <td>3.00</td>\n",
       "      <td>4.00</td>\n",
       "      <td>6.00</td>\n",
       "      <td>9.00</td>\n",
       "      <td>12.00</td>\n",
       "      <td>12.00</td>\n",
       "    </tr>\n",
       "    <tr>\n",
       "      <th>1</th>\n",
       "      <td>42.43</td>\n",
       "      <td>55.90</td>\n",
       "      <td>49.24</td>\n",
       "      <td>43.01</td>\n",
       "      <td>40.31</td>\n",
       "      <td>47.17</td>\n",
       "      <td>40.31</td>\n",
       "      <td>44.72</td>\n",
       "    </tr>\n",
       "    <tr>\n",
       "      <th>2</th>\n",
       "      <td>21.22</td>\n",
       "      <td>59.72</td>\n",
       "      <td>40.70</td>\n",
       "      <td>22.89</td>\n",
       "      <td>15.18</td>\n",
       "      <td>34.77</td>\n",
       "      <td>15.18</td>\n",
       "      <td>27.78</td>\n",
       "    </tr>\n",
       "    <tr>\n",
       "      <th>3</th>\n",
       "      <td>1508.50</td>\n",
       "      <td>6440.00</td>\n",
       "      <td>3136.00</td>\n",
       "      <td>1508.50</td>\n",
       "      <td>1508.50</td>\n",
       "      <td>3136.00</td>\n",
       "      <td>1508.50</td>\n",
       "      <td>1508.50</td>\n",
       "    </tr>\n",
       "    <tr>\n",
       "      <th>4</th>\n",
       "      <td>10.00</td>\n",
       "      <td>50.00</td>\n",
       "      <td>30.00</td>\n",
       "      <td>10.00</td>\n",
       "      <td>10.00</td>\n",
       "      <td>30.00</td>\n",
       "      <td>10.00</td>\n",
       "      <td>10.00</td>\n",
       "    </tr>\n",
       "  </tbody>\n",
       "</table>\n",
       "</div>"
      ],
      "text/plain": [
       "         1        2        3        4        5        6        7        8\n",
       "0     1.00     2.00     3.00     4.00     6.00     9.00    12.00    12.00\n",
       "1    42.43    55.90    49.24    43.01    40.31    47.17    40.31    44.72\n",
       "2    21.22    59.72    40.70    22.89    15.18    34.77    15.18    27.78\n",
       "3  1508.50  6440.00  3136.00  1508.50  1508.50  3136.00  1508.50  1508.50\n",
       "4    10.00    50.00    30.00    10.00    10.00    30.00    10.00    10.00"
      ]
     },
     "execution_count": 16,
     "metadata": {},
     "output_type": "execute_result"
    }
   ],
   "source": [
    "data=pd.read_excel(\"/home/bagergat/Desktop/graphsperminute.xlsx\")\n",
    "data.drop(\"Unnamed: 0\",axis=1,inplace=True)\n",
    "data.to_excel(\"graphsperminute.xlsx\")\n",
    "data"
   ]
  },
  {
   "cell_type": "code",
   "execution_count": 17,
   "id": "7eda2aa2-d390-41c4-a459-3a390fae75d6",
   "metadata": {},
   "outputs": [
    {
     "data": {
      "text/html": [
       "<div>\n",
       "<style scoped>\n",
       "    .dataframe tbody tr th:only-of-type {\n",
       "        vertical-align: middle;\n",
       "    }\n",
       "\n",
       "    .dataframe tbody tr th {\n",
       "        vertical-align: top;\n",
       "    }\n",
       "\n",
       "    .dataframe thead th {\n",
       "        text-align: right;\n",
       "    }\n",
       "</style>\n",
       "<table border=\"1\" class=\"dataframe\">\n",
       "  <thead>\n",
       "    <tr style=\"text-align: right;\">\n",
       "      <th></th>\n",
       "      <th>1</th>\n",
       "      <th>2</th>\n",
       "      <th>3</th>\n",
       "      <th>4</th>\n",
       "      <th>5</th>\n",
       "      <th>6</th>\n",
       "      <th>7</th>\n",
       "      <th>8</th>\n",
       "    </tr>\n",
       "  </thead>\n",
       "  <tbody>\n",
       "    <tr>\n",
       "      <th>0</th>\n",
       "      <td>1.00</td>\n",
       "      <td>2.00</td>\n",
       "      <td>3.00</td>\n",
       "      <td>4.00</td>\n",
       "      <td>6.00</td>\n",
       "      <td>9.00</td>\n",
       "      <td>12.00</td>\n",
       "      <td>12.00</td>\n",
       "    </tr>\n",
       "    <tr>\n",
       "      <th>1</th>\n",
       "      <td>42.43</td>\n",
       "      <td>55.90</td>\n",
       "      <td>49.24</td>\n",
       "      <td>43.01</td>\n",
       "      <td>40.31</td>\n",
       "      <td>47.17</td>\n",
       "      <td>40.31</td>\n",
       "      <td>44.72</td>\n",
       "    </tr>\n",
       "    <tr>\n",
       "      <th>2</th>\n",
       "      <td>21.22</td>\n",
       "      <td>59.72</td>\n",
       "      <td>40.70</td>\n",
       "      <td>22.89</td>\n",
       "      <td>15.18</td>\n",
       "      <td>34.77</td>\n",
       "      <td>15.18</td>\n",
       "      <td>27.78</td>\n",
       "    </tr>\n",
       "    <tr>\n",
       "      <th>3</th>\n",
       "      <td>1508.50</td>\n",
       "      <td>6440.00</td>\n",
       "      <td>3136.00</td>\n",
       "      <td>1508.50</td>\n",
       "      <td>1508.50</td>\n",
       "      <td>3136.00</td>\n",
       "      <td>1508.50</td>\n",
       "      <td>1508.50</td>\n",
       "    </tr>\n",
       "    <tr>\n",
       "      <th>4</th>\n",
       "      <td>10.00</td>\n",
       "      <td>50.00</td>\n",
       "      <td>30.00</td>\n",
       "      <td>10.00</td>\n",
       "      <td>10.00</td>\n",
       "      <td>30.00</td>\n",
       "      <td>10.00</td>\n",
       "      <td>10.00</td>\n",
       "    </tr>\n",
       "  </tbody>\n",
       "</table>\n",
       "</div>"
      ],
      "text/plain": [
       "         1        2        3        4        5        6        7        8\n",
       "0     1.00     2.00     3.00     4.00     6.00     9.00    12.00    12.00\n",
       "1    42.43    55.90    49.24    43.01    40.31    47.17    40.31    44.72\n",
       "2    21.22    59.72    40.70    22.89    15.18    34.77    15.18    27.78\n",
       "3  1508.50  6440.00  3136.00  1508.50  1508.50  3136.00  1508.50  1508.50\n",
       "4    10.00    50.00    30.00    10.00    10.00    30.00    10.00    10.00"
      ]
     },
     "execution_count": 17,
     "metadata": {},
     "output_type": "execute_result"
    }
   ],
   "source": [
    "data"
   ]
  },
  {
   "cell_type": "code",
   "execution_count": 13,
   "id": "5fe001e4-79eb-4475-bcbd-ec33369fea33",
   "metadata": {},
   "outputs": [
    {
     "ename": "SyntaxError",
     "evalue": "unterminated string literal (detected at line 1) (2303585275.py, line 1)",
     "output_type": "error",
     "traceback": [
      "\u001b[0;36m  Cell \u001b[0;32mIn[13], line 1\u001b[0;36m\u001b[0m\n\u001b[0;31m    file=\"/home/bagergat/Desktop/Bitirme/used_files/graphsperminute.xlsx\u001b[0m\n\u001b[0m         ^\u001b[0m\n\u001b[0;31mSyntaxError\u001b[0m\u001b[0;31m:\u001b[0m unterminated string literal (detected at line 1)\n"
     ]
    }
   ],
   "source": [
    "file=\"/home/bagergat/Desktop/Bitirme/used_files/graphsperminute.xlsx"
   ]
  },
  {
   "cell_type": "code",
   "execution_count": 14,
   "id": "a8b8f884-5363-4eb5-8141-b87269ad72d3",
   "metadata": {},
   "outputs": [
    {
     "name": "stdout",
     "output_type": "stream",
     "text": [
      "doğru\n"
     ]
    }
   ],
   "source": [
    "if file:\n",
    "    print(\"doğru\")"
   ]
  },
  {
   "cell_type": "code",
   "execution_count": null,
   "id": "0c99645a-10b3-48ef-bf41-5a2a803ea828",
   "metadata": {},
   "outputs": [],
   "source": []
  }
 ],
 "metadata": {
  "kernelspec": {
   "display_name": "Python 3 (ipykernel)",
   "language": "python",
   "name": "python3"
  },
  "language_info": {
   "codemirror_mode": {
    "name": "ipython",
    "version": 3
   },
   "file_extension": ".py",
   "mimetype": "text/x-python",
   "name": "python",
   "nbconvert_exporter": "python",
   "pygments_lexer": "ipython3",
   "version": "3.11.7"
  }
 },
 "nbformat": 4,
 "nbformat_minor": 5
}
