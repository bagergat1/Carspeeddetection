{
 "cells": [
  {
   "cell_type": "code",
   "execution_count": 1,
   "id": "f4d17a27-f7fb-4fac-ac30-5f4359f99696",
   "metadata": {},
   "outputs": [
    {
     "data": {
      "text/html": [
       "<div>\n",
       "<style scoped>\n",
       "    .dataframe tbody tr th:only-of-type {\n",
       "        vertical-align: middle;\n",
       "    }\n",
       "\n",
       "    .dataframe tbody tr th {\n",
       "        vertical-align: top;\n",
       "    }\n",
       "\n",
       "    .dataframe thead th {\n",
       "        text-align: right;\n",
       "    }\n",
       "</style>\n",
       "<table border=\"1\" class=\"dataframe\">\n",
       "  <thead>\n",
       "    <tr style=\"text-align: right;\">\n",
       "      <th></th>\n",
       "      <th>0</th>\n",
       "    </tr>\n",
       "  </thead>\n",
       "  <tbody>\n",
       "    <tr>\n",
       "      <th>0</th>\n",
       "      <td>86.023253</td>\n",
       "    </tr>\n",
       "    <tr>\n",
       "      <th>1</th>\n",
       "      <td>50.990195</td>\n",
       "    </tr>\n",
       "    <tr>\n",
       "      <th>2</th>\n",
       "      <td>70.000000</td>\n",
       "    </tr>\n",
       "    <tr>\n",
       "      <th>3</th>\n",
       "      <td>78.102497</td>\n",
       "    </tr>\n",
       "    <tr>\n",
       "      <th>4</th>\n",
       "      <td>80.622577</td>\n",
       "    </tr>\n",
       "    <tr>\n",
       "      <th>5</th>\n",
       "      <td>60.827625</td>\n",
       "    </tr>\n",
       "    <tr>\n",
       "      <th>6</th>\n",
       "      <td>72.801099</td>\n",
       "    </tr>\n",
       "    <tr>\n",
       "      <th>7</th>\n",
       "      <td>63.245553</td>\n",
       "    </tr>\n",
       "    <tr>\n",
       "      <th>8</th>\n",
       "      <td>50.000000</td>\n",
       "    </tr>\n",
       "    <tr>\n",
       "      <th>9</th>\n",
       "      <td>76.157731</td>\n",
       "    </tr>\n",
       "  </tbody>\n",
       "</table>\n",
       "</div>"
      ],
      "text/plain": [
       "           0\n",
       "0  86.023253\n",
       "1  50.990195\n",
       "2  70.000000\n",
       "3  78.102497\n",
       "4  80.622577\n",
       "5  60.827625\n",
       "6  72.801099\n",
       "7  63.245553\n",
       "8  50.000000\n",
       "9  76.157731"
      ]
     },
     "execution_count": 1,
     "metadata": {},
     "output_type": "execute_result"
    }
   ],
   "source": [
    "import pandas as pd\n",
    "import numpy as np\n",
    "import matplotlib.pyplot as plt\n",
    "yasal_hiz_siniri=70\n",
    "inf=pd.read_excel(\"../ceza_almayan_araclar.xlsx\")\n",
    "inf.pop(\"Unnamed: 0\")\n",
    "inf"
   ]
  },
  {
   "cell_type": "code",
   "execution_count": 2,
   "id": "43633d07-a787-4afd-afeb-c7aa1ebd8e76",
   "metadata": {},
   "outputs": [],
   "source": [
    "liste=list(inf[0])\n"
   ]
  },
  {
   "cell_type": "code",
   "execution_count": 3,
   "id": "a4c47502-f082-4e9b-8c5a-68b7d16d261c",
   "metadata": {},
   "outputs": [],
   "source": [
    "inf.sort_values(0,inplace=True)"
   ]
  },
  {
   "cell_type": "code",
   "execution_count": 4,
   "id": "bfa08659-bf80-4af5-85b9-1d93d95d41fd",
   "metadata": {},
   "outputs": [
    {
     "data": {
      "text/plain": [
       "[1, 2, 3, 4, 5, 6, 7, 8, 9, 10]"
      ]
     },
     "execution_count": 4,
     "metadata": {},
     "output_type": "execute_result"
    }
   ],
   "source": [
    "number=[i for i in range(1,len(inf)+1)]\n",
    "number"
   ]
  },
  {
   "cell_type": "code",
   "execution_count": 5,
   "id": "deb6071c-2a1e-432e-9d81-f07d36ae28bb",
   "metadata": {},
   "outputs": [],
   "source": [
    "inf[\"sayilar\"]=number"
   ]
  },
  {
   "cell_type": "code",
   "execution_count": 6,
   "id": "dbc8e683-16d3-4742-a462-477f072f0ad7",
   "metadata": {},
   "outputs": [
    {
     "data": {
      "text/html": [
       "<div>\n",
       "<style scoped>\n",
       "    .dataframe tbody tr th:only-of-type {\n",
       "        vertical-align: middle;\n",
       "    }\n",
       "\n",
       "    .dataframe tbody tr th {\n",
       "        vertical-align: top;\n",
       "    }\n",
       "\n",
       "    .dataframe thead th {\n",
       "        text-align: right;\n",
       "    }\n",
       "</style>\n",
       "<table border=\"1\" class=\"dataframe\">\n",
       "  <thead>\n",
       "    <tr style=\"text-align: right;\">\n",
       "      <th></th>\n",
       "      <th>0</th>\n",
       "      <th>sayilar</th>\n",
       "    </tr>\n",
       "  </thead>\n",
       "  <tbody>\n",
       "    <tr>\n",
       "      <th>8</th>\n",
       "      <td>50.000000</td>\n",
       "      <td>1</td>\n",
       "    </tr>\n",
       "    <tr>\n",
       "      <th>1</th>\n",
       "      <td>50.990195</td>\n",
       "      <td>2</td>\n",
       "    </tr>\n",
       "    <tr>\n",
       "      <th>5</th>\n",
       "      <td>60.827625</td>\n",
       "      <td>3</td>\n",
       "    </tr>\n",
       "    <tr>\n",
       "      <th>7</th>\n",
       "      <td>63.245553</td>\n",
       "      <td>4</td>\n",
       "    </tr>\n",
       "    <tr>\n",
       "      <th>2</th>\n",
       "      <td>70.000000</td>\n",
       "      <td>5</td>\n",
       "    </tr>\n",
       "    <tr>\n",
       "      <th>6</th>\n",
       "      <td>72.801099</td>\n",
       "      <td>6</td>\n",
       "    </tr>\n",
       "    <tr>\n",
       "      <th>9</th>\n",
       "      <td>76.157731</td>\n",
       "      <td>7</td>\n",
       "    </tr>\n",
       "    <tr>\n",
       "      <th>3</th>\n",
       "      <td>78.102497</td>\n",
       "      <td>8</td>\n",
       "    </tr>\n",
       "    <tr>\n",
       "      <th>4</th>\n",
       "      <td>80.622577</td>\n",
       "      <td>9</td>\n",
       "    </tr>\n",
       "    <tr>\n",
       "      <th>0</th>\n",
       "      <td>86.023253</td>\n",
       "      <td>10</td>\n",
       "    </tr>\n",
       "  </tbody>\n",
       "</table>\n",
       "</div>"
      ],
      "text/plain": [
       "           0  sayilar\n",
       "8  50.000000        1\n",
       "1  50.990195        2\n",
       "5  60.827625        3\n",
       "7  63.245553        4\n",
       "2  70.000000        5\n",
       "6  72.801099        6\n",
       "9  76.157731        7\n",
       "3  78.102497        8\n",
       "4  80.622577        9\n",
       "0  86.023253       10"
      ]
     },
     "execution_count": 6,
     "metadata": {},
     "output_type": "execute_result"
    }
   ],
   "source": [
    "inf"
   ]
  },
  {
   "cell_type": "code",
   "execution_count": 7,
   "id": "3476ac7a-9dd9-4a11-ae06-08b2bc057f27",
   "metadata": {},
   "outputs": [
    {
     "data": {
      "text/plain": [
       "50.99019513592785"
      ]
     },
     "execution_count": 7,
     "metadata": {},
     "output_type": "execute_result"
    },
    {
     "data": {
      "image/png": "[encoded data removed]",
      "text/plain": [
       "<Figure size 640x480 with 1 Axes>"
      ]
     },
     "metadata": {},
     "output_type": "display_data"
    }
   ],
   "source": [
    "plt.barh(inf[\"sayilar\"],inf[0])\n",
    "inf[0][1]"
   ]
  },
  {
   "cell_type": "code",
   "execution_count": 8,
   "id": "94d8656b-b4ea-44fd-bbae-516c7c1415af",
   "metadata": {},
   "outputs": [
    {
     "data": {
      "text/html": [
       "<div>\n",
       "<style scoped>\n",
       "    .dataframe tbody tr th:only-of-type {\n",
       "        vertical-align: middle;\n",
       "    }\n",
       "\n",
       "    .dataframe tbody tr th {\n",
       "        vertical-align: top;\n",
       "    }\n",
       "\n",
       "    .dataframe thead th {\n",
       "        text-align: right;\n",
       "    }\n",
       "</style>\n",
       "<table border=\"1\" class=\"dataframe\">\n",
       "  <thead>\n",
       "    <tr style=\"text-align: right;\">\n",
       "      <th></th>\n",
       "      <th>Group</th>\n",
       "      <th>Grouped_Values</th>\n",
       "    </tr>\n",
       "  </thead>\n",
       "  <tbody>\n",
       "    <tr>\n",
       "      <th>0</th>\n",
       "      <td>5.0</td>\n",
       "      <td>[50.99019513592785, 50.0]</td>\n",
       "    </tr>\n",
       "    <tr>\n",
       "      <th>1</th>\n",
       "      <td>6.0</td>\n",
       "      <td>[60.8276253029822, 63.24555320336759]</td>\n",
       "    </tr>\n",
       "    <tr>\n",
       "      <th>2</th>\n",
       "      <td>7.0</td>\n",
       "      <td>[70.0, 78.10249675906654, 72.80109889280519, 7...</td>\n",
       "    </tr>\n",
       "    <tr>\n",
       "      <th>3</th>\n",
       "      <td>8.0</td>\n",
       "      <td>[86.02325267042627, 80.62257748298549]</td>\n",
       "    </tr>\n",
       "  </tbody>\n",
       "</table>\n",
       "</div>"
      ],
      "text/plain": [
       "   Group                                     Grouped_Values\n",
       "0    5.0                          [50.99019513592785, 50.0]\n",
       "1    6.0              [60.8276253029822, 63.24555320336759]\n",
       "2    7.0  [70.0, 78.10249675906654, 72.80109889280519, 7...\n",
       "3    8.0             [86.02325267042627, 80.62257748298549]"
      ]
     },
     "execution_count": 8,
     "metadata": {},
     "output_type": "execute_result"
    }
   ],
   "source": [
    "import pandas as pd\n",
    "\n",
    "data=pd.read_excel(\"../ceza_almayan_araclar.xlsx\")\n",
    "data.drop(\"Unnamed: 0\",inplace=True,axis=1)\n",
    "\n",
    "data['Group'] = (data[0] + 1) // 10\n",
    "\n",
    "grouped_df = data.groupby('Group')[0].apply(list).reset_index(name='Grouped_Values')\n",
    "grouped_df"
   ]
  },
  {
   "cell_type": "code",
   "execution_count": 9,
   "id": "ba57b999-49db-42a0-8d8e-d219523837c5",
   "metadata": {},
   "outputs": [],
   "source": [
    "liste=list()\n",
    "for i in grouped_df[\"Grouped_Values\"]:\n",
    "    liste.append(i)"
   ]
  },
  {
   "cell_type": "code",
   "execution_count": 10,
   "id": "66522012-48d9-4c2f-9bd6-c6c90dc34c73",
   "metadata": {},
   "outputs": [
    {
     "data": {
      "text/plain": [
       "[[50.99019513592785, 50.0],\n",
       " [60.8276253029822, 63.24555320336759],\n",
       " [70.0, 78.10249675906654, 72.80109889280519, 76.1577310586391],\n",
       " [86.02325267042627, 80.62257748298549]]"
      ]
     },
     "execution_count": 10,
     "metadata": {},
     "output_type": "execute_result"
    }
   ],
   "source": [
    "liste"
   ]
  },
  {
   "cell_type": "code",
   "execution_count": null,
   "id": "46b1341b-3ff6-4fcc-9dbb-f65999f0468d",
   "metadata": {},
   "outputs": [],
   "source": []
  },
  {
   "cell_type": "code",
   "execution_count": 11,
   "id": "1e47faf6-daa7-47c9-b01b-5d4fdf3a710a",
   "metadata": {},
   "outputs": [],
   "source": [
    "liste3=list();liste2=list()\n",
    "for i in liste:\n",
    "    liste3.append(len(i))\n",
    "    liste2.append(i[0]//10*10)"
   ]
  },
  {
   "cell_type": "code",
   "execution_count": 12,
   "id": "9a0a102f-f4a7-4d68-9b91-2fb65cfb0441",
   "metadata": {},
   "outputs": [
    {
     "data": {
      "text/plain": [
       "[2, 2, 4, 2]"
      ]
     },
     "execution_count": 12,
     "metadata": {},
     "output_type": "execute_result"
    }
   ],
   "source": [
    "liste3"
   ]
  },
  {
   "cell_type": "code",
   "execution_count": 13,
   "id": "312aded4-f98b-4fad-acb7-4bf80a9f064c",
   "metadata": {},
   "outputs": [],
   "source": [
    "liste2=[f\"{i}-{i+9}\" for i in liste2]"
   ]
  },
  {
   "cell_type": "code",
   "execution_count": 14,
   "id": "0c7c3f2d-eaf0-4b1e-bdb4-c9ba1ae9e0b9",
   "metadata": {},
   "outputs": [
    {
     "data": {
      "text/plain": [
       "['50.0-59.0', '60.0-69.0', '70.0-79.0', '80.0-89.0']"
      ]
     },
     "execution_count": 14,
     "metadata": {},
     "output_type": "execute_result"
    }
   ],
   "source": [
    "liste2"
   ]
  },
  {
   "cell_type": "code",
   "execution_count": 18,
   "id": "0637c7ac-3b1a-42f1-8a3a-1e679ec802ff",
   "metadata": {},
   "outputs": [
    {
     "data": {
      "text/plain": [
       "Text(0.5, 1.0, 'Hız Aralıklarındaki Araç Sayısı Grafiği')"
      ]
     },
     "execution_count": 18,
     "metadata": {},
     "output_type": "execute_result"
    },
    {
     "data": {
      "image/png": "[encoded data removed]",
      "text/plain": [
       "<Figure size 640x480 with 1 Axes>"
      ]
     },
     "metadata": {},
     "output_type": "display_data"
    }
   ],
   "source": [
    "plt.barh(liste2,liste3)\n",
    "plt.xlabel(\"Bu Hız Aralığındaki Araç Sayısı\")\n",
    "plt.ylabel(\"Hız Aralıkları\")\n",
    "plt.title(\"Hız Aralıklarındaki Araç Sayısı Grafiği\")"
   ]
  },
  {
   "cell_type": "code",
   "execution_count": 21,
   "id": "33f20b9d-3cf1-42c3-876f-7bdcc135498f",
   "metadata": {},
   "outputs": [
    {
     "data": {
      "image/png": "[encoded data removed]",
      "text/plain": [
       "<Figure size 800x300 with 2 Axes>"
      ]
     },
     "metadata": {},
     "output_type": "display_data"
    }
   ],
   "source": [
    "fig, axes = plt.subplots(nrows=1, ncols=2, figsize=(8, 3))\n",
    "fig.tight_layout() # Or equivalently,  \"plt.tight_layout()\"\n",
    "plt.subplots_adjust(hspace=0.2, wspace=0.2)\n",
    "\n",
    "plt.subplot(1,2,2)\n",
    "plt.pie(liste3,labels=liste2)\n",
    "plt.subplot(1,2,1)\n",
    "plt.barh(liste2,liste3)\n",
    "plt.xlabel(\"Bu Hız Aralığındaki Araç Sayısı\")\n",
    "plt.ylabel(\"Hız Aralıkları\")\n",
    "plt.title(\"Hız Aralıklarındaki Araç Sayısı Grafiği\")\n",
    "plt.show()"
   ]
  },
  {
   "cell_type": "code",
   "execution_count": null,
   "id": "4adfc9e3-a471-49a2-8d0e-59e055785f70",
   "metadata": {},
   "outputs": [],
   "source": []
  }
 ],
 "metadata": {
  "kernelspec": {
   "display_name": "Python 3 (ipykernel)",
   "language": "python",
   "name": "python3"
  },
  "language_info": {
   "codemirror_mode": {
    "name": "ipython",
    "version": 3
   },
   "file_extension": ".py",
   "mimetype": "text/x-python",
   "name": "python",
   "nbconvert_exporter": "python",
   "pygments_lexer": "ipython3",
   "version": "3.11.7"
  }
 },
 "nbformat": 4,
 "nbformat_minor": 5
}
