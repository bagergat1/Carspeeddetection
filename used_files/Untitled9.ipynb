{
 "cells": [
  {
   "cell_type": "code",
   "execution_count": 12,
   "id": "1f3348ac-cc27-4960-bba4-4181b46149f9",
   "metadata": {},
   "outputs": [],
   "source": [
    "import pandas as pd\n",
    "import numpy as np"
   ]
  },
  {
   "cell_type": "code",
   "execution_count": 13,
   "id": "b1124ae8-b41d-4f5c-9e03-c40646a006f3",
   "metadata": {},
   "outputs": [],
   "source": [
    "file=\"/home/bagergat/Desktop/Bitirme/used_files/graphsperminute.xlsx\""
   ]
  },
  {
   "cell_type": "code",
   "execution_count": 14,
   "id": "cb5d26c0-9e67-454d-90c2-05cea01a441f",
   "metadata": {},
   "outputs": [],
   "source": [
    "data=pd.read_excel(file)"
   ]
  },
  {
   "cell_type": "code",
   "execution_count": 15,
   "id": "029cbc9d-9534-4baf-8323-ab8b562fb2b2",
   "metadata": {},
   "outputs": [],
   "source": [
    "data[\"index\"]=[\"Hız\",\"Aşım Oranı\",\"Para Cezası\",\"Aşma Sınıfı\"]"
   ]
  },
  {
   "cell_type": "code",
   "execution_count": 16,
   "id": "339778d1-c438-4f74-baba-82aec5f9a9d0",
   "metadata": {},
   "outputs": [
    {
     "data": {
      "text/plain": [
       "Index([1, 2, 3, 4, 6, 9, 12, '12.1', 'index'], dtype='object')"
      ]
     },
     "execution_count": 16,
     "metadata": {},
     "output_type": "execute_result"
    }
   ],
   "source": [
    "data.columns"
   ]
  },
  {
   "cell_type": "code",
   "execution_count": 19,
   "id": "bb9db0f8-b2db-47d2-94cf-769804efcf57",
   "metadata": {},
   "outputs": [],
   "source": [
    "data=data.set_index('index')"
   ]
  },
  {
   "cell_type": "code",
   "execution_count": 26,
   "id": "7ac3e555-e2c8-495b-8518-a35254b13200",
   "metadata": {},
   "outputs": [],
   "source": [
    "data.to_excel(\"graphsperminute.xlsx\")"
   ]
  },
  {
   "cell_type": "code",
   "execution_count": 32,
   "id": "9b2939fb-48f7-4a5b-b2e0-d7e1e6c507e0",
   "metadata": {},
   "outputs": [
    {
     "data": {
      "text/plain": [
       "1       42.43\n",
       "2       55.90\n",
       "3       49.24\n",
       "4       43.01\n",
       "6       40.31\n",
       "9       47.17\n",
       "12      40.31\n",
       "12.1    44.72\n",
       "Name: Hız, dtype: float64"
      ]
     },
     "execution_count": 32,
     "metadata": {},
     "output_type": "execute_result"
    }
   ],
   "source": [
    "data.loc[\"Hız\"]"
   ]
  },
  {
   "cell_type": "code",
   "execution_count": null,
   "id": "9412993c-ea09-404f-994a-6cde56e349e0",
   "metadata": {},
   "outputs": [],
   "source": []
  }
 ],
 "metadata": {
  "kernelspec": {
   "display_name": "Python 3 (ipykernel)",
   "language": "python",
   "name": "python3"
  },
  "language_info": {
   "codemirror_mode": {
    "name": "ipython",
    "version": 3
   },
   "file_extension": ".py",
   "mimetype": "text/x-python",
   "name": "python",
   "nbconvert_exporter": "python",
   "pygments_lexer": "ipython3",
   "version": "3.11.7"
  }
 },
 "nbformat": 4,
 "nbformat_minor": 5
}
