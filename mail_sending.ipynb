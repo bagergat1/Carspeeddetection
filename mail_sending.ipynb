{
 "cells": [
  {
   "cell_type": "code",
   "execution_count": 1,
   "id": "beee5a56-0150-4b99-8b59-a6d11e4e0694",
   "metadata": {},
   "outputs": [],
   "source": [
    "import pandas as pd \n",
    "import numpy as np\n",
    "import smtplib"
   ]
  },
  {
   "cell_type": "code",
   "execution_count": 2,
   "id": "60b251ce-8578-46f8-ba67-eac90d4f2661",
   "metadata": {},
   "outputs": [],
   "source": [
    "veri=pd.read_excel(\"kayitlar.xlsx\")\n",
    "veri.pop(\"Unnamed: 0\")\n",
    "veri.columns=[\"Degerler\"]\n",
    "veri=pd.Series(veri[\"Degerler\"]).unique()"
   ]
  },
  {
   "cell_type": "code",
   "execution_count": 3,
   "id": "a89a4ea5-37d2-4041-aa23-2f0e4ac949c7",
   "metadata": {},
   "outputs": [],
   "source": [
    "def mail(carID,speed2,asma,ceza_tutar,hesaplanan_asma):\n",
    "    email=\"birkullanicix@gmail.com\"\n",
    "    receiver_email=\"birkullanicix@gmail.com\"\n",
    "    subject=\"Hiz siniri asma cezasi\"\n",
    "    message=f\"\"\"        {carID} numarali arac {speed2} Km/h ile hiz sinirini %{asma} oraninda asmistir.\n",
    "\t{carID} numarali aracin hiz sinirini %{hesaplanan_asma}'den fazla astigi tespit edildiginden dolayi cezai islem uygulanmistir.\n",
    "\tYazilan ceza tutari:{ceza_tutar} TL.\"\"\"\n",
    "    text=f\"Subject:{subject}\\n\\n{message}\"\n",
    "    server=smtplib.SMTP(\"smtp.gmail.com\",587)\n",
    "    server.starttls()\n",
    "    server.login(email,\"wrrt pxqr pyib nzcs\")\n",
    "    server.sendmail(email,receiver_email,text)\n",
    "    print(\"Ceza mail'i gönderilmiştir.\")"
   ]
  },
  {
   "cell_type": "code",
   "execution_count": 4,
   "id": "d172ef73-14c4-49a4-8793-a2f72b239a19",
   "metadata": {},
   "outputs": [
    {
     "name": "stdout",
     "output_type": "stream",
     "text": [
      "Ceza mail'i gönderilmiştir.\n",
      "Ceza mail'i gönderilmiştir.\n",
      "Ceza mail'i gönderilmiştir.\n",
      "Ceza mail'i gönderilmiştir.\n",
      "Ceza mail'i gönderilmiştir.\n",
      "Ceza mail'i gönderilmiştir.\n",
      "Ceza mail'i gönderilmiştir.\n",
      "Ceza mail'i gönderilmiştir.\n",
      "Ceza mail'i gönderilmiştir.\n",
      "Ceza mail'i gönderilmiştir.\n",
      "Ceza mail'i gönderilmiştir.\n",
      "Ceza mail'i gönderilmiştir.\n",
      "Ceza mail'i gönderilmiştir.\n",
      "Ceza mail'i gönderilmiştir.\n",
      "Ceza mail'i gönderilmiştir.\n",
      "Ceza mail'i gönderilmiştir.\n",
      "Ceza mail'i gönderilmiştir.\n",
      "Ceza mail'i gönderilmiştir.\n",
      "Ceza mail'i gönderilmiştir.\n",
      "Ceza mail'i gönderilmiştir.\n",
      "Ceza mail'i gönderilmiştir.\n",
      "Ceza mail'i gönderilmiştir.\n",
      "Ceza mail'i gönderilmiştir.\n",
      "Ceza mail'i gönderilmiştir.\n",
      "Ceza mail'i gönderilmiştir.\n",
      "Ceza mail'i gönderilmiştir.\n",
      "Ceza mail'i gönderilmiştir.\n",
      "Ceza mail'i gönderilmiştir.\n",
      "Ceza mail'i gönderilmiştir.\n",
      "Ceza mail'i gönderilmiştir.\n",
      "Ceza mail'i gönderilmiştir.\n",
      "Ceza mail'i gönderilmiştir.\n",
      "Ceza mail'i gönderilmiştir.\n",
      "Ceza mail'i gönderilmiştir.\n",
      "Ceza mail'i gönderilmiştir.\n",
      "Ceza mail'i gönderilmiştir.\n",
      "Ceza mail'i gönderilmiştir.\n",
      "Ceza mail'i gönderilmiştir.\n",
      "Ceza mail'i gönderilmiştir.\n"
     ]
    }
   ],
   "source": [
    "j=list()\n",
    "for i in veri:\n",
    "    vi=i.split()\n",
    "    j.append(vi)\n",
    "for i in j:\n",
    "    i[0]=i[0].replace(\"[\",\"\")\n",
    "    i[-1]=i[-1].replace(\"]\",\"\")\n",
    "    mail(i[0],i[1],i[2],i[3],i[4])"
   ]
  }
 ],
 "metadata": {
  "kernelspec": {
   "display_name": "Python 3 (ipykernel)",
   "language": "python",
   "name": "python3"
  },
  "language_info": {
   "codemirror_mode": {
    "name": "ipython",
    "version": 3
   },
   "file_extension": ".py",
   "mimetype": "text/x-python",
   "name": "python",
   "nbconvert_exporter": "python",
   "pygments_lexer": "ipython3",
   "version": "3.11.7"
  }
 },
 "nbformat": 4,
 "nbformat_minor": 5
}
