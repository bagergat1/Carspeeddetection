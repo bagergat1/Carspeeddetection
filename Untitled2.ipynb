{
 "cells": [
  {
   "cell_type": "code",
   "execution_count": 1,
   "id": "93846c85-1420-4087-8c08-921f56e200a8",
   "metadata": {},
   "outputs": [
    {
     "ename": "NameError",
     "evalue": "name 'carID' is not defined",
     "output_type": "error",
     "traceback": [
      "\u001b[0;31m---------------------------------------------------------------------------\u001b[0m",
      "\u001b[0;31mNameError\u001b[0m                                 Traceback (most recent call last)",
      "Cell \u001b[0;32mIn[1], line 1\u001b[0m\n\u001b[0;32m----> 1\u001b[0m \u001b[38;5;28mprint\u001b[39m(\u001b[38;5;124mf\u001b[39m\u001b[38;5;124m\"\"\"\u001b[39m\u001b[38;5;132;01m{\u001b[39;00mcarID\u001b[38;5;132;01m}\u001b[39;00m\u001b[38;5;124m numarali arac \u001b[39m\u001b[38;5;132;01m{\u001b[39;00mspeed2\u001b[38;5;132;01m}\u001b[39;00m\u001b[38;5;124m Km/h ile hiz sinirini %\u001b[39m\u001b[38;5;132;01m{\u001b[39;00masma\u001b[38;5;132;01m}\u001b[39;00m\u001b[38;5;124m oraninda asmistir.\u001b[39m\n\u001b[1;32m      2\u001b[0m \u001b[38;5;124m\t\u001b[39m\u001b[38;5;132;01m{\u001b[39;00mcarID\u001b[38;5;132;01m}\u001b[39;00m\u001b[38;5;124m numarali aracin hiz sinirini %\u001b[39m\u001b[38;5;132;01m{\u001b[39;00mhesaplanan_asma\u001b[38;5;132;01m}\u001b[39;00m\u001b[38;5;124m'\u001b[39m\u001b[38;5;124mden fazla astigi tespit edildiginden dolayi cezai islem uygulanmistir.\u001b[39m\n\u001b[1;32m      3\u001b[0m \u001b[38;5;124m\tYazilan ceza tutari:\u001b[39m\u001b[38;5;132;01m{\u001b[39;00mceza_tutar\u001b[38;5;132;01m}\u001b[39;00m\u001b[38;5;124m TL.\u001b[39m\u001b[38;5;124m\"\"\"\u001b[39m)\n",
      "\u001b[0;31mNameError\u001b[0m: name 'carID' is not defined"
     ]
    }
   ],
   "source": [
    "print(f\"\"\"{carID} numarali arac {speed2} Km/h ile hiz sinirini %{asma} oraninda asmistir.\n",
    "\t{carID} numarali aracin hiz sinirini %{hesaplanan_asma}'den fazla astigi tespit edildiginden dolayi cezai islem uygulanmistir.\n",
    "\tYazilan ceza tutari:{ceza_tutar} TL.\"\"\")"
   ]
  },
  {
   "cell_type": "code",
   "execution_count": 2,
   "id": "6b3623f3-00c2-4e04-b62a-7cdb59786ada",
   "metadata": {},
   "outputs": [],
   "source": [
    "import pandas as pd\n",
    "import numpy as np"
   ]
  },
  {
   "cell_type": "code",
   "execution_count": 3,
   "id": "f31d456a-beec-4dd3-8f6c-3ec88496a3a5",
   "metadata": {},
   "outputs": [
    {
     "data": {
      "text/plain": [
       "0\n",
       "carID                        carID\n",
       "speed2                      speed2\n",
       "asma                          asma\n",
       "ceza_tutar              ceza_tutar\n",
       "hesaplanan_asma    hesaplanan_asma\n",
       "Name: 0, dtype: object"
      ]
     },
     "execution_count": 3,
     "metadata": {},
     "output_type": "execute_result"
    }
   ],
   "source": [
    "veri=pd.read_excel(\"kayitlarx.xlsx\")\n",
    "veri.pop(\"Unnamed: 0\")\n",
    "veri.set_index(veri[0],inplace=True)\n",
    "veri.pop(0)"
   ]
  },
  {
   "cell_type": "code",
   "execution_count": 4,
   "id": "a57fead0-baf8-482a-8c3e-2dc2f246d2ef",
   "metadata": {},
   "outputs": [
    {
     "data": {
      "text/html": [
       "<div>\n",
       "<style scoped>\n",
       "    .dataframe tbody tr th:only-of-type {\n",
       "        vertical-align: middle;\n",
       "    }\n",
       "\n",
       "    .dataframe tbody tr th {\n",
       "        vertical-align: top;\n",
       "    }\n",
       "\n",
       "    .dataframe thead th {\n",
       "        text-align: right;\n",
       "    }\n",
       "</style>\n",
       "<table border=\"1\" class=\"dataframe\">\n",
       "  <thead>\n",
       "    <tr style=\"text-align: right;\">\n",
       "      <th></th>\n",
       "      <th>1</th>\n",
       "      <th>2</th>\n",
       "      <th>3</th>\n",
       "      <th>4</th>\n",
       "      <th>5</th>\n",
       "      <th>6</th>\n",
       "      <th>7</th>\n",
       "    </tr>\n",
       "    <tr>\n",
       "      <th>0</th>\n",
       "      <th></th>\n",
       "      <th></th>\n",
       "      <th></th>\n",
       "      <th></th>\n",
       "      <th></th>\n",
       "      <th></th>\n",
       "      <th></th>\n",
       "    </tr>\n",
       "  </thead>\n",
       "  <tbody>\n",
       "    <tr>\n",
       "      <th>carID</th>\n",
       "      <td>9.00</td>\n",
       "      <td>12.00</td>\n",
       "      <td>15.00</td>\n",
       "      <td>18.00</td>\n",
       "      <td>19.00</td>\n",
       "      <td>22</td>\n",
       "      <td>24.00</td>\n",
       "    </tr>\n",
       "    <tr>\n",
       "      <th>speed2</th>\n",
       "      <td>103.73</td>\n",
       "      <td>87.24</td>\n",
       "      <td>76.84</td>\n",
       "      <td>97.54</td>\n",
       "      <td>76.84</td>\n",
       "      <td>81</td>\n",
       "      <td>69.68</td>\n",
       "    </tr>\n",
       "    <tr>\n",
       "      <th>asma</th>\n",
       "      <td>72.88</td>\n",
       "      <td>45.40</td>\n",
       "      <td>28.07</td>\n",
       "      <td>62.56</td>\n",
       "      <td>28.07</td>\n",
       "      <td>35</td>\n",
       "      <td>16.13</td>\n",
       "    </tr>\n",
       "    <tr>\n",
       "      <th>ceza_tutar</th>\n",
       "      <td>6440.00</td>\n",
       "      <td>3136.00</td>\n",
       "      <td>1508.50</td>\n",
       "      <td>6440.00</td>\n",
       "      <td>1508.50</td>\n",
       "      <td>3136</td>\n",
       "      <td>1508.50</td>\n",
       "    </tr>\n",
       "    <tr>\n",
       "      <th>hesaplanan_asma</th>\n",
       "      <td>50.00</td>\n",
       "      <td>30.00</td>\n",
       "      <td>10.00</td>\n",
       "      <td>50.00</td>\n",
       "      <td>10.00</td>\n",
       "      <td>30</td>\n",
       "      <td>10.00</td>\n",
       "    </tr>\n",
       "  </tbody>\n",
       "</table>\n",
       "</div>"
      ],
      "text/plain": [
       "                       1        2        3        4        5     6        7\n",
       "0                                                                          \n",
       "carID               9.00    12.00    15.00    18.00    19.00    22    24.00\n",
       "speed2            103.73    87.24    76.84    97.54    76.84    81    69.68\n",
       "asma               72.88    45.40    28.07    62.56    28.07    35    16.13\n",
       "ceza_tutar       6440.00  3136.00  1508.50  6440.00  1508.50  3136  1508.50\n",
       "hesaplanan_asma    50.00    30.00    10.00    50.00    10.00    30    10.00"
      ]
     },
     "execution_count": 4,
     "metadata": {},
     "output_type": "execute_result"
    }
   ],
   "source": [
    "veri"
   ]
  },
  {
   "cell_type": "code",
   "execution_count": 27,
   "id": "3e913541-5c1a-45ac-9dd4-a90d06ddec17",
   "metadata": {},
   "outputs": [
    {
     "name": "stderr",
     "output_type": "stream",
     "text": [
      "/tmp/ipykernel_6969/2893930296.py:2: FutureWarning: Series.__getitem__ treating keys as positions is deprecated. In a future version, integer keys will always be treated as labels (consistent with DataFrame behavior). To access a value by position, use `ser.iloc[pos]`\n",
      "  carID=veri[i][0]\n",
      "/tmp/ipykernel_6969/2893930296.py:3: FutureWarning: Series.__getitem__ treating keys as positions is deprecated. In a future version, integer keys will always be treated as labels (consistent with DataFrame behavior). To access a value by position, use `ser.iloc[pos]`\n",
      "  speed2=veri[i][1]\n",
      "/tmp/ipykernel_6969/2893930296.py:4: FutureWarning: Series.__getitem__ treating keys as positions is deprecated. In a future version, integer keys will always be treated as labels (consistent with DataFrame behavior). To access a value by position, use `ser.iloc[pos]`\n",
      "  asma=veri[i][2]\n",
      "/tmp/ipykernel_6969/2893930296.py:5: FutureWarning: Series.__getitem__ treating keys as positions is deprecated. In a future version, integer keys will always be treated as labels (consistent with DataFrame behavior). To access a value by position, use `ser.iloc[pos]`\n",
      "  ceza_tutar=veri[i][3]\n",
      "/tmp/ipykernel_6969/2893930296.py:6: FutureWarning: Series.__getitem__ treating keys as positions is deprecated. In a future version, integer keys will always be treated as labels (consistent with DataFrame behavior). To access a value by position, use `ser.iloc[pos]`\n",
      "  hesaplanan_asma=veri[i][4]\n"
     ]
    }
   ],
   "source": [
    "for i in range(1,len(veri.columns)):\n",
    "    carID=veri[i][0]\n",
    "    speed2=veri[i][1]\n",
    "    asma=veri[i][2]\n",
    "    ceza_tutar=veri[i][3]\n",
    "    hesaplanan_asma=veri[i][4]"
   ]
  },
  {
   "cell_type": "code",
   "execution_count": null,
   "id": "5ee3ff34-3958-4c53-b200-43b735caa056",
   "metadata": {},
   "outputs": [],
   "source": [
    "print(f\"\"\"{carID} numarali arac {speed2} Km/h ile hiz sinirini %{asma} oraninda asmistir.\n",
    "\t{carID} numarali aracin hiz sinirini %{hesaplanan_asma}'den fazla astigi tespit edildiginden dolayi cezai islem uygulanmistir.\n",
    "\tYazilan ceza tutari:{ceza_tutar} TL.\"\"\")"
   ]
  },
  {
   "cell_type": "code",
   "execution_count": 33,
   "id": "b22e7a2b-c1c5-4f0b-a3b9-e2cd328a8846",
   "metadata": {},
   "outputs": [
    {
     "data": {
      "text/plain": [
       "22"
      ]
     },
     "execution_count": 33,
     "metadata": {},
     "output_type": "execute_result"
    }
   ],
   "source": []
  },
  {
   "cell_type": "code",
   "execution_count": 34,
   "id": "de33301c-8a77-4ef4-a605-6bfbac626f06",
   "metadata": {},
   "outputs": [
    {
     "data": {
      "text/plain": [
       "76.8"
      ]
     },
     "execution_count": 34,
     "metadata": {},
     "output_type": "execute_result"
    }
   ],
   "source": [
    "60*128/100"
   ]
  },
  {
   "cell_type": "code",
   "execution_count": null,
   "id": "80fdb230-8e24-4902-84d0-9dd488a28db6",
   "metadata": {},
   "outputs": [],
   "source": []
  }
 ],
 "metadata": {
  "kernelspec": {
   "display_name": "Python 3 (ipykernel)",
   "language": "python",
   "name": "python3"
  },
  "language_info": {
   "codemirror_mode": {
    "name": "ipython",
    "version": 3
   },
   "file_extension": ".py",
   "mimetype": "text/x-python",
   "name": "python",
   "nbconvert_exporter": "python",
   "pygments_lexer": "ipython3",
   "version": "3.11.7"
  }
 },
 "nbformat": 4,
 "nbformat_minor": 5
}
