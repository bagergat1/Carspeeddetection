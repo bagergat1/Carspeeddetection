{
 "cells": [
  {
   "cell_type": "code",
   "execution_count": 1,
   "id": "beee5a56-0150-4b99-8b59-a6d11e4e0694",
   "metadata": {},
   "outputs": [],
   "source": [
    "import pandas as pd "
   ]
  },
  {
   "cell_type": "code",
   "execution_count": 2,
   "id": "573d3309-69f5-4ed8-a0b3-f9dd0f8cbe5e",
   "metadata": {},
   "outputs": [],
   "source": [
    "import numpy as np\n",
    "import smtplib"
   ]
  },
  {
   "cell_type": "code",
   "execution_count": 3,
   "id": "60b251ce-8578-46f8-ba67-eac90d4f2661",
   "metadata": {},
   "outputs": [],
   "source": [
    "veri=pd.read_excel(\"kayitlar.xlsx\")"
   ]
  },
  {
   "cell_type": "code",
   "execution_count": 4,
   "id": "dcb891b6-6b58-441a-98aa-babc14737c0a",
   "metadata": {},
   "outputs": [
    {
     "data": {
      "text/plain": [
       "0        0\n",
       "1        1\n",
       "2        2\n",
       "3        3\n",
       "4        4\n",
       "      ... \n",
       "365    365\n",
       "366    366\n",
       "367    367\n",
       "368    368\n",
       "369    369\n",
       "Name: Unnamed: 0, Length: 370, dtype: int64"
      ]
     },
     "execution_count": 4,
     "metadata": {},
     "output_type": "execute_result"
    }
   ],
   "source": [
    "veri.pop(\"Unnamed: 0\")"
   ]
  },
  {
   "cell_type": "code",
   "execution_count": 5,
   "id": "645a17c5-8830-4cec-a8e9-c174757ad816",
   "metadata": {},
   "outputs": [],
   "source": [
    "veri.columns=[\"Degerler\"]"
   ]
  },
  {
   "cell_type": "code",
   "execution_count": 6,
   "id": "b0d14988-0ebb-49e6-84d9-8018e2450f3a",
   "metadata": {},
   "outputs": [],
   "source": [
    "veri=pd.Series(veri[\"Degerler\"]).unique()"
   ]
  },
  {
   "cell_type": "code",
   "execution_count": 7,
   "id": "57336fba-2b64-4ce1-9cbc-807228fc3673",
   "metadata": {},
   "outputs": [
    {
     "data": {
      "text/plain": [
       "array([\"[10 65.3 '30.61' 3136.0 30]\", \"[7 65.3 '30.61' 3136.0 30]\",\n",
       "       \"[11 65.3 '30.61' 3136.0 30]\", \"[12 65.3 '30.61' 3136.0 30]\",\n",
       "       \"[21 79.78 '59.55' 6440.0 50]\", \"[24 79.78 '59.55' 6440.0 50]\",\n",
       "       \"[31 57.28 '14.55' 1508.5 10]\", \"[32 57.28 '14.55' 1508.5 10]\",\n",
       "       \"[35 57.28 '14.55' 1508.5 10]\", \"[33 57.28 '14.55' 1508.5 10]\",\n",
       "       \"[40 57.28 '14.55' 1508.5 10]\", \"[39 57.28 '14.55' 1508.5 10]\",\n",
       "       \"[39 58.97 '17.94' 1508.5 10]\", \"[38 58.97 '17.94' 1508.5 10]\",\n",
       "       \"[41 58.97 '17.94' 1508.5 10]\", \"[41 65.3 '30.61' 3136.0 30]\",\n",
       "       \"[43 58.41 '16.82' 1508.5 10]\", \"[42 58.41 '16.82' 1508.5 10]\",\n",
       "       \"[44 58.41 '16.82' 1508.5 10]\", \"[46 69.68 '39.36' 3136.0 30]\",\n",
       "       \"[47 69.68 '39.36' 3136.0 30]\", \"[49 63.26 '26.53' 1508.5 10]\",\n",
       "       \"[49 61.69 '23.38' 1508.5 10]\", \"[52 63.26 '26.53' 1508.5 10]\",\n",
       "       \"[54 63.26 '26.53' 1508.5 10]\", \"[56 87.61 '75.23' 6440.0 50]\",\n",
       "       \"[59 87.61 '75.23' 6440.0 50]\", \"[59 76.84 '53.69' 6440.0 50]\",\n",
       "       \"[68 69.21 '38.41' 3136.0 30]\", \"[69 69.21 '38.41' 3136.0 30]\",\n",
       "       \"[69 94.81 '89.62' 6440.0 50]\", \"[71 61.69 '23.38' 1508.5 10]\",\n",
       "       \"[70 61.69 '23.38' 1508.5 10]\", \"[73 61.69 '23.38' 1508.5 10]\",\n",
       "       \"[75 61.69 '23.38' 1508.5 10]\", \"[75 90.56 '81.12' 6440.0 50]\",\n",
       "       \"[75 74.68 '49.36' 3136.0 30]\", \"[76 61.69 '23.38' 1508.5 10]\",\n",
       "       \"[76 90.56 '81.12' 6440.0 50]\"], dtype=object)"
      ]
     },
     "execution_count": 7,
     "metadata": {},
     "output_type": "execute_result"
    }
   ],
   "source": [
    "veri"
   ]
  },
  {
   "cell_type": "code",
   "execution_count": 8,
   "id": "b57e1dc6-5f7a-45ac-81d4-ac186fa8b355",
   "metadata": {},
   "outputs": [],
   "source": [
    "j=list()\n",
    "for i in veri:\n",
    "    vi=i.split()\n",
    "    j.append(vi)"
   ]
  },
  {
   "cell_type": "code",
   "execution_count": 9,
   "id": "a89a4ea5-37d2-4041-aa23-2f0e4ac949c7",
   "metadata": {},
   "outputs": [],
   "source": [
    "def mail(carID,speed2,asma,ceza_tutar,hesaplanan_asma):\n",
    "    email=\"birkullanicix@gmail.com\"\n",
    "    receiver_email=\"birkullanicix@gmail.com\"\n",
    "    subject=\"Hiz siniri asma cezasi\"\n",
    "    message=f\"\"\"        {carID} numarali arac {speed2} Km/h ile hiz sinirini %{asma} oraninda asmistir.\n",
    "\t{carID} numarali aracin hiz sinirini %{hesaplanan_asma}'den fazla astigi tespit edildiginden dolayi cezai islem uygulanmistir.\n",
    "\tYazilan ceza tutari:{ceza_tutar} TL.\"\"\"\n",
    "    text=f\"Subject:{subject}\\n\\n{message}\"\n",
    "    server=smtplib.SMTP(\"smtp.gmail.com\",587)\n",
    "    server.starttls()\n",
    "    server.login(email,\"wrrt pxqr pyib nzcs\")\n",
    "    server.sendmail(email,receiver_email,text)\n",
    "    print(\"Ceza mail'i gönderilmiştir.\")"
   ]
  },
  {
   "cell_type": "code",
   "execution_count": 16,
   "id": "d172ef73-14c4-49a4-8793-a2f72b239a19",
   "metadata": {},
   "outputs": [
    {
     "name": "stdout",
     "output_type": "stream",
     "text": [
      "[\"'30.61'\", '10', '30', '3136.0', '65.3']\n",
      "[\"'30.61'\", '30', '3136.0', '65.3', '7']\n",
      "[\"'30.61'\", '11', '30', '3136.0', '65.3']\n",
      "[\"'30.61'\", '12', '30', '3136.0', '65.3']\n",
      "[\"'59.55'\", '21', '50', '6440.0', '79.78']\n",
      "[\"'59.55'\", '24', '50', '6440.0', '79.78']\n",
      "[\"'14.55'\", '10', '1508.5', '31', '57.28']\n",
      "[\"'14.55'\", '10', '1508.5', '32', '57.28']\n",
      "[\"'14.55'\", '10', '1508.5', '35', '57.28']\n",
      "[\"'14.55'\", '10', '1508.5', '33', '57.28']\n",
      "[\"'14.55'\", '10', '1508.5', '40', '57.28']\n",
      "[\"'14.55'\", '10', '1508.5', '39', '57.28']\n",
      "[\"'17.94'\", '10', '1508.5', '39', '58.97']\n",
      "[\"'17.94'\", '10', '1508.5', '38', '58.97']\n",
      "[\"'17.94'\", '10', '1508.5', '41', '58.97']\n",
      "[\"'30.61'\", '30', '3136.0', '41', '65.3']\n",
      "[\"'16.82'\", '10', '1508.5', '43', '58.41']\n",
      "[\"'16.82'\", '10', '1508.5', '42', '58.41']\n",
      "[\"'16.82'\", '10', '1508.5', '44', '58.41']\n",
      "[\"'39.36'\", '30', '3136.0', '46', '69.68']\n",
      "[\"'39.36'\", '30', '3136.0', '47', '69.68']\n",
      "[\"'26.53'\", '10', '1508.5', '49', '63.26']\n",
      "[\"'23.38'\", '10', '1508.5', '49', '61.69']\n",
      "[\"'26.53'\", '10', '1508.5', '52', '63.26']\n",
      "[\"'26.53'\", '10', '1508.5', '54', '63.26']\n",
      "[\"'75.23'\", '50', '56', '6440.0', '87.61']\n",
      "[\"'75.23'\", '50', '59', '6440.0', '87.61']\n",
      "[\"'53.69'\", '50', '59', '6440.0', '76.84']\n",
      "[\"'38.41'\", '30', '3136.0', '68', '69.21']\n",
      "[\"'38.41'\", '30', '3136.0', '69', '69.21']\n",
      "[\"'89.62'\", '50', '6440.0', '69', '94.81']\n",
      "[\"'23.38'\", '10', '1508.5', '61.69', '71']\n",
      "[\"'23.38'\", '10', '1508.5', '61.69', '70']\n",
      "[\"'23.38'\", '10', '1508.5', '61.69', '73']\n",
      "[\"'23.38'\", '10', '1508.5', '61.69', '75']\n",
      "[\"'81.12'\", '50', '6440.0', '75', '90.56']\n",
      "[\"'49.36'\", '30', '3136.0', '74.68', '75']\n",
      "[\"'23.38'\", '10', '1508.5', '61.69', '76']\n",
      "[\"'81.12'\", '50', '6440.0', '76', '90.56']\n"
     ]
    }
   ],
   "source": [
    "for i in j:\n",
    "    i[0]=i[0].replace(\"[\",\"\")\n",
    "    i[-1]=i[-1].replace(\"]\",\"\")\n",
    "    print(i)"
   ]
  },
  {
   "cell_type": "code",
   "execution_count": null,
   "id": "4987edda-b6a2-4e75-9aaa-cb7876bd2215",
   "metadata": {},
   "outputs": [],
   "source": []
  },
  {
   "cell_type": "code",
   "execution_count": 11,
   "id": "ffbe1c67-c28c-4f58-8fcb-59138f529ea9",
   "metadata": {},
   "outputs": [
    {
     "name": "stdout",
     "output_type": "stream",
     "text": [
      "3136.0\n",
      "3136.0\n",
      "3136.0\n",
      "3136.0\n",
      "6440.0\n",
      "6440.0\n",
      "1508.5\n",
      "1508.5\n",
      "1508.5\n",
      "1508.5\n",
      "1508.5\n",
      "1508.5\n",
      "1508.5\n",
      "1508.5\n",
      "1508.5\n",
      "3136.0\n",
      "1508.5\n",
      "1508.5\n",
      "1508.5\n",
      "3136.0\n",
      "3136.0\n",
      "1508.5\n",
      "1508.5\n",
      "1508.5\n",
      "1508.5\n",
      "6440.0\n",
      "6440.0\n",
      "6440.0\n",
      "3136.0\n",
      "3136.0\n",
      "6440.0\n",
      "1508.5\n",
      "1508.5\n",
      "1508.5\n",
      "1508.5\n",
      "6440.0\n",
      "3136.0\n",
      "1508.5\n",
      "6440.0\n"
     ]
    }
   ],
   "source": [
    "for i in j:\n",
    "    print(i[3])"
   ]
  },
  {
   "cell_type": "code",
   "execution_count": null,
   "id": "dd3d0c88-0710-4254-8366-d07bb9a1ce55",
   "metadata": {},
   "outputs": [],
   "source": []
  }
 ],
 "metadata": {
  "kernelspec": {
   "display_name": "Python 3 (ipykernel)",
   "language": "python",
   "name": "python3"
  },
  "language_info": {
   "codemirror_mode": {
    "name": "ipython",
    "version": 3
   },
   "file_extension": ".py",
   "mimetype": "text/x-python",
   "name": "python",
   "nbconvert_exporter": "python",
   "pygments_lexer": "ipython3",
   "version": "3.11.7"
  }
 },
 "nbformat": 4,
 "nbformat_minor": 5
}
