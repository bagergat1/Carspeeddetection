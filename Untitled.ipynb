{
 "cells": [
  {
   "cell_type": "code",
   "execution_count": 1,
   "id": "beee5a56-0150-4b99-8b59-a6d11e4e0694",
   "metadata": {},
   "outputs": [],
   "source": [
    "import pandas as pd "
   ]
  },
  {
   "cell_type": "code",
   "execution_count": 2,
   "id": "573d3309-69f5-4ed8-a0b3-f9dd0f8cbe5e",
   "metadata": {},
   "outputs": [],
   "source": [
    "import numpy as np"
   ]
  },
  {
   "cell_type": "code",
   "execution_count": 3,
   "id": "60b251ce-8578-46f8-ba67-eac90d4f2661",
   "metadata": {},
   "outputs": [],
   "source": [
    "veri=pd.read_excel(\"kayitlar.xlsx\")"
   ]
  },
  {
   "cell_type": "code",
   "execution_count": 4,
   "id": "dcb891b6-6b58-441a-98aa-babc14737c0a",
   "metadata": {},
   "outputs": [
    {
     "data": {
      "text/plain": [
       "0        0\n",
       "1        1\n",
       "2        2\n",
       "3        3\n",
       "4        4\n",
       "      ... \n",
       "143    143\n",
       "144    144\n",
       "145    145\n",
       "146    146\n",
       "147    147\n",
       "Name: Unnamed: 0, Length: 148, dtype: int64"
      ]
     },
     "execution_count": 4,
     "metadata": {},
     "output_type": "execute_result"
    }
   ],
   "source": [
    "veri.pop(\"Unnamed: 0\")"
   ]
  },
  {
   "cell_type": "code",
   "execution_count": 5,
   "id": "645a17c5-8830-4cec-a8e9-c174757ad816",
   "metadata": {},
   "outputs": [],
   "source": [
    "veri.columns=[\"Degerler\"]"
   ]
  },
  {
   "cell_type": "code",
   "execution_count": 8,
   "id": "b0d14988-0ebb-49e6-84d9-8018e2450f3a",
   "metadata": {},
   "outputs": [
    {
     "data": {
      "text/plain": [
       "array([\"[8 61.69 '23.38' 1508.5 10]\", \"[9 61.69 '23.38' 1508.5 10]\",\n",
       "       \"[12 87.61 '75.23' 6440.0 50]\", \"[17 87.61 '75.23' 6440.0 50]\",\n",
       "       \"[16 87.61 '75.23' 6440.0 50]\", \"[16 81.0 '62.00' 6440.0 50]\",\n",
       "       \"[11 76.42 '52.83' 6440.0 50]\", \"[22 87.61 '75.23' 6440.0 50]\",\n",
       "       \"[24 65.3 '30.61' 3136.0 30]\", \"[25 65.3 '30.61' 3136.0 30]\"],\n",
       "      dtype=object)"
      ]
     },
     "execution_count": 8,
     "metadata": {},
     "output_type": "execute_result"
    }
   ],
   "source": [
    "veri[\"Degerler\"].unique()"
   ]
  },
  {
   "cell_type": "code",
   "execution_count": null,
   "id": "83d20702-a5a0-4e67-8318-4d1a8559dd63",
   "metadata": {},
   "outputs": [],
   "source": []
  }
 ],
 "metadata": {
  "kernelspec": {
   "display_name": "Python 3 (ipykernel)",
   "language": "python",
   "name": "python3"
  },
  "language_info": {
   "codemirror_mode": {
    "name": "ipython",
    "version": 3
   },
   "file_extension": ".py",
   "mimetype": "text/x-python",
   "name": "python",
   "nbconvert_exporter": "python",
   "pygments_lexer": "ipython3",
   "version": "3.11.7"
  }
 },
 "nbformat": 4,
 "nbformat_minor": 5
}
