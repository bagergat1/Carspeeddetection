{
 "cells": [
  {
   "cell_type": "code",
   "execution_count": 18,
   "id": "4f643254-90f5-40b7-a969-5140014c0945",
   "metadata": {},
   "outputs": [],
   "source": [
    "import pandas as pd\n",
    "import numpy as np"
   ]
  },
  {
   "cell_type": "code",
   "execution_count": 19,
   "id": "f8b8a37b-f11a-4081-8811-0590a5767082",
   "metadata": {},
   "outputs": [],
   "source": [
    "dictionary = {'D': 10, 'B': 20, 'C': 30}\n",
    "series=pd.Series(dictionary)"
   ]
  },
  {
   "cell_type": "code",
   "execution_count": 20,
   "id": "4d1898c6-15b0-4aa1-916d-0136ee7a490f",
   "metadata": {},
   "outputs": [],
   "source": [
    "df=pd.DataFrame(series)"
   ]
  },
  {
   "cell_type": "code",
   "execution_count": 21,
   "id": "fe5fb51c-58d5-493d-911b-7700d863ec5f",
   "metadata": {},
   "outputs": [],
   "source": [
    "for i in range(5):\n",
    "    df[i]=pd.Series(dictionary)"
   ]
  },
  {
   "cell_type": "code",
   "execution_count": 22,
   "id": "6bb8540f-c428-4eaf-9151-3ef785c53062",
   "metadata": {},
   "outputs": [
    {
     "data": {
      "text/html": [
       "<div>\n",
       "<style scoped>\n",
       "    .dataframe tbody tr th:only-of-type {\n",
       "        vertical-align: middle;\n",
       "    }\n",
       "\n",
       "    .dataframe tbody tr th {\n",
       "        vertical-align: top;\n",
       "    }\n",
       "\n",
       "    .dataframe thead th {\n",
       "        text-align: right;\n",
       "    }\n",
       "</style>\n",
       "<table border=\"1\" class=\"dataframe\">\n",
       "  <thead>\n",
       "    <tr style=\"text-align: right;\">\n",
       "      <th></th>\n",
       "      <th>0</th>\n",
       "      <th>1</th>\n",
       "      <th>2</th>\n",
       "      <th>3</th>\n",
       "      <th>4</th>\n",
       "    </tr>\n",
       "  </thead>\n",
       "  <tbody>\n",
       "    <tr>\n",
       "      <th>D</th>\n",
       "      <td>10</td>\n",
       "      <td>10</td>\n",
       "      <td>10</td>\n",
       "      <td>10</td>\n",
       "      <td>10</td>\n",
       "    </tr>\n",
       "    <tr>\n",
       "      <th>B</th>\n",
       "      <td>20</td>\n",
       "      <td>20</td>\n",
       "      <td>20</td>\n",
       "      <td>20</td>\n",
       "      <td>20</td>\n",
       "    </tr>\n",
       "    <tr>\n",
       "      <th>C</th>\n",
       "      <td>30</td>\n",
       "      <td>30</td>\n",
       "      <td>30</td>\n",
       "      <td>30</td>\n",
       "      <td>30</td>\n",
       "    </tr>\n",
       "  </tbody>\n",
       "</table>\n",
       "</div>"
      ],
      "text/plain": [
       "    0   1   2   3   4\n",
       "D  10  10  10  10  10\n",
       "B  20  20  20  20  20\n",
       "C  30  30  30  30  30"
      ]
     },
     "execution_count": 22,
     "metadata": {},
     "output_type": "execute_result"
    }
   ],
   "source": [
    "df"
   ]
  },
  {
   "cell_type": "code",
   "execution_count": 27,
   "id": "e856113c-5438-4f14-bd82-83440a994713",
   "metadata": {},
   "outputs": [
    {
     "data": {
      "text/plain": [
       "8"
      ]
     },
     "execution_count": 27,
     "metadata": {},
     "output_type": "execute_result"
    }
   ],
   "source": [
    "df=pd.read_excel(\"kayitlar.xlsx\")\n",
    "len(df.columns)"
   ]
  },
  {
   "cell_type": "code",
   "execution_count": 40,
   "id": "a6619528-ba32-47c8-8f54-872e73c872b7",
   "metadata": {},
   "outputs": [],
   "source": [
    "df.columns=[i for i in range(len(df.columns))]"
   ]
  },
  {
   "cell_type": "code",
   "execution_count": 41,
   "id": "422ef4ab-7484-4f5c-81e8-26009fb9b618",
   "metadata": {},
   "outputs": [
    {
     "data": {
      "text/html": [
       "<div>\n",
       "<style scoped>\n",
       "    .dataframe tbody tr th:only-of-type {\n",
       "        vertical-align: middle;\n",
       "    }\n",
       "\n",
       "    .dataframe tbody tr th {\n",
       "        vertical-align: top;\n",
       "    }\n",
       "\n",
       "    .dataframe thead th {\n",
       "        text-align: right;\n",
       "    }\n",
       "</style>\n",
       "<table border=\"1\" class=\"dataframe\">\n",
       "  <thead>\n",
       "    <tr style=\"text-align: right;\">\n",
       "      <th></th>\n",
       "      <th>0</th>\n",
       "      <th>1</th>\n",
       "      <th>2</th>\n",
       "      <th>3</th>\n",
       "      <th>4</th>\n",
       "      <th>5</th>\n",
       "      <th>6</th>\n",
       "      <th>7</th>\n",
       "    </tr>\n",
       "  </thead>\n",
       "  <tbody>\n",
       "    <tr>\n",
       "      <th>0</th>\n",
       "      <td>carID</td>\n",
       "      <td>9.00</td>\n",
       "      <td>12.00</td>\n",
       "      <td>15.00</td>\n",
       "      <td>18.00</td>\n",
       "      <td>19.00</td>\n",
       "      <td>22.0</td>\n",
       "      <td>24.00</td>\n",
       "    </tr>\n",
       "    <tr>\n",
       "      <th>1</th>\n",
       "      <td>speed2</td>\n",
       "      <td>103.73</td>\n",
       "      <td>87.24</td>\n",
       "      <td>76.84</td>\n",
       "      <td>97.54</td>\n",
       "      <td>76.84</td>\n",
       "      <td>81.0</td>\n",
       "      <td>69.68</td>\n",
       "    </tr>\n",
       "    <tr>\n",
       "      <th>2</th>\n",
       "      <td>asma</td>\n",
       "      <td>72.88</td>\n",
       "      <td>45.40</td>\n",
       "      <td>28.07</td>\n",
       "      <td>62.56</td>\n",
       "      <td>28.07</td>\n",
       "      <td>35.0</td>\n",
       "      <td>16.13</td>\n",
       "    </tr>\n",
       "    <tr>\n",
       "      <th>3</th>\n",
       "      <td>ceza_tutar</td>\n",
       "      <td>6440.00</td>\n",
       "      <td>3136.00</td>\n",
       "      <td>1508.50</td>\n",
       "      <td>6440.00</td>\n",
       "      <td>1508.50</td>\n",
       "      <td>3136.0</td>\n",
       "      <td>1508.50</td>\n",
       "    </tr>\n",
       "    <tr>\n",
       "      <th>4</th>\n",
       "      <td>hesaplanan_asma</td>\n",
       "      <td>50.00</td>\n",
       "      <td>30.00</td>\n",
       "      <td>10.00</td>\n",
       "      <td>50.00</td>\n",
       "      <td>10.00</td>\n",
       "      <td>30.0</td>\n",
       "      <td>10.00</td>\n",
       "    </tr>\n",
       "  </tbody>\n",
       "</table>\n",
       "</div>"
      ],
      "text/plain": [
       "                 0        1        2        3        4        5       6  \\\n",
       "0            carID     9.00    12.00    15.00    18.00    19.00    22.0   \n",
       "1           speed2   103.73    87.24    76.84    97.54    76.84    81.0   \n",
       "2             asma    72.88    45.40    28.07    62.56    28.07    35.0   \n",
       "3       ceza_tutar  6440.00  3136.00  1508.50  6440.00  1508.50  3136.0   \n",
       "4  hesaplanan_asma    50.00    30.00    10.00    50.00    10.00    30.0   \n",
       "\n",
       "         7  \n",
       "0    24.00  \n",
       "1    69.68  \n",
       "2    16.13  \n",
       "3  1508.50  \n",
       "4    10.00  "
      ]
     },
     "execution_count": 41,
     "metadata": {},
     "output_type": "execute_result"
    }
   ],
   "source": [
    "df"
   ]
  },
  {
   "cell_type": "code",
   "execution_count": 44,
   "id": "48a9b0af-92cb-4cd1-b85d-302d80fef88b",
   "metadata": {},
   "outputs": [],
   "source": [
    "df2=pd.read_excel(\"kayitlarx.xlsx\")"
   ]
  },
  {
   "cell_type": "code",
   "execution_count": 47,
   "id": "cb42d739-a241-4360-9a8e-24074c53a518",
   "metadata": {},
   "outputs": [
    {
     "data": {
      "text/plain": [
       "0    0\n",
       "1    1\n",
       "2    2\n",
       "3    3\n",
       "4    4\n",
       "Name: Unnamed: 0, dtype: int64"
      ]
     },
     "execution_count": 47,
     "metadata": {},
     "output_type": "execute_result"
    }
   ],
   "source": [
    "df2.pop(\"Unnamed: 0\")"
   ]
  },
  {
   "cell_type": "code",
   "execution_count": 48,
   "id": "89a95886-2b6d-4a02-b8e9-2e6f732bf8fb",
   "metadata": {},
   "outputs": [
    {
     "data": {
      "text/html": [
       "<div>\n",
       "<style scoped>\n",
       "    .dataframe tbody tr th:only-of-type {\n",
       "        vertical-align: middle;\n",
       "    }\n",
       "\n",
       "    .dataframe tbody tr th {\n",
       "        vertical-align: top;\n",
       "    }\n",
       "\n",
       "    .dataframe thead th {\n",
       "        text-align: right;\n",
       "    }\n",
       "</style>\n",
       "<table border=\"1\" class=\"dataframe\">\n",
       "  <thead>\n",
       "    <tr style=\"text-align: right;\">\n",
       "      <th></th>\n",
       "      <th>0</th>\n",
       "      <th>1</th>\n",
       "      <th>2</th>\n",
       "      <th>3</th>\n",
       "      <th>4</th>\n",
       "      <th>5</th>\n",
       "      <th>6</th>\n",
       "      <th>7</th>\n",
       "    </tr>\n",
       "  </thead>\n",
       "  <tbody>\n",
       "    <tr>\n",
       "      <th>0</th>\n",
       "      <td>carID</td>\n",
       "      <td>9.00</td>\n",
       "      <td>12.00</td>\n",
       "      <td>15.00</td>\n",
       "      <td>18.00</td>\n",
       "      <td>19.00</td>\n",
       "      <td>22</td>\n",
       "      <td>24.00</td>\n",
       "    </tr>\n",
       "    <tr>\n",
       "      <th>1</th>\n",
       "      <td>speed2</td>\n",
       "      <td>103.73</td>\n",
       "      <td>87.24</td>\n",
       "      <td>76.84</td>\n",
       "      <td>97.54</td>\n",
       "      <td>76.84</td>\n",
       "      <td>81</td>\n",
       "      <td>69.68</td>\n",
       "    </tr>\n",
       "    <tr>\n",
       "      <th>2</th>\n",
       "      <td>asma</td>\n",
       "      <td>72.88</td>\n",
       "      <td>45.40</td>\n",
       "      <td>28.07</td>\n",
       "      <td>62.56</td>\n",
       "      <td>28.07</td>\n",
       "      <td>35</td>\n",
       "      <td>16.13</td>\n",
       "    </tr>\n",
       "    <tr>\n",
       "      <th>3</th>\n",
       "      <td>ceza_tutar</td>\n",
       "      <td>6440.00</td>\n",
       "      <td>3136.00</td>\n",
       "      <td>1508.50</td>\n",
       "      <td>6440.00</td>\n",
       "      <td>1508.50</td>\n",
       "      <td>3136</td>\n",
       "      <td>1508.50</td>\n",
       "    </tr>\n",
       "    <tr>\n",
       "      <th>4</th>\n",
       "      <td>hesaplanan_asma</td>\n",
       "      <td>50.00</td>\n",
       "      <td>30.00</td>\n",
       "      <td>10.00</td>\n",
       "      <td>50.00</td>\n",
       "      <td>10.00</td>\n",
       "      <td>30</td>\n",
       "      <td>10.00</td>\n",
       "    </tr>\n",
       "  </tbody>\n",
       "</table>\n",
       "</div>"
      ],
      "text/plain": [
       "                 0        1        2        3        4        5     6        7\n",
       "0            carID     9.00    12.00    15.00    18.00    19.00    22    24.00\n",
       "1           speed2   103.73    87.24    76.84    97.54    76.84    81    69.68\n",
       "2             asma    72.88    45.40    28.07    62.56    28.07    35    16.13\n",
       "3       ceza_tutar  6440.00  3136.00  1508.50  6440.00  1508.50  3136  1508.50\n",
       "4  hesaplanan_asma    50.00    30.00    10.00    50.00    10.00    30    10.00"
      ]
     },
     "execution_count": 48,
     "metadata": {},
     "output_type": "execute_result"
    }
   ],
   "source": [
    "df2"
   ]
  },
  {
   "cell_type": "code",
   "execution_count": 58,
   "id": "ac4aff85-08db-48ee-b9a8-2fcfdf35923c",
   "metadata": {},
   "outputs": [],
   "source": [
    "df2.index=df2[0]"
   ]
  },
  {
   "cell_type": "code",
   "execution_count": 60,
   "id": "dbeaee23-579e-4433-905c-d4c54684140a",
   "metadata": {},
   "outputs": [
    {
     "data": {
      "text/plain": [
       "0\n",
       "carID                        carID\n",
       "speed2                      speed2\n",
       "asma                          asma\n",
       "ceza_tutar              ceza_tutar\n",
       "hesaplanan_asma    hesaplanan_asma\n",
       "Name: 0, dtype: object"
      ]
     },
     "execution_count": 60,
     "metadata": {},
     "output_type": "execute_result"
    }
   ],
   "source": [
    "df2.pop(0)"
   ]
  },
  {
   "cell_type": "code",
   "execution_count": 63,
   "id": "65e93c4c-edfa-47a7-b018-38223b5086ea",
   "metadata": {},
   "outputs": [
    {
     "data": {
      "text/html": [
       "<div>\n",
       "<style scoped>\n",
       "    .dataframe tbody tr th:only-of-type {\n",
       "        vertical-align: middle;\n",
       "    }\n",
       "\n",
       "    .dataframe tbody tr th {\n",
       "        vertical-align: top;\n",
       "    }\n",
       "\n",
       "    .dataframe thead th {\n",
       "        text-align: right;\n",
       "    }\n",
       "</style>\n",
       "<table border=\"1\" class=\"dataframe\">\n",
       "  <thead>\n",
       "    <tr style=\"text-align: right;\">\n",
       "      <th></th>\n",
       "      <th>1</th>\n",
       "      <th>2</th>\n",
       "      <th>3</th>\n",
       "      <th>4</th>\n",
       "      <th>5</th>\n",
       "      <th>6</th>\n",
       "      <th>7</th>\n",
       "    </tr>\n",
       "    <tr>\n",
       "      <th>0</th>\n",
       "      <th></th>\n",
       "      <th></th>\n",
       "      <th></th>\n",
       "      <th></th>\n",
       "      <th></th>\n",
       "      <th></th>\n",
       "      <th></th>\n",
       "    </tr>\n",
       "  </thead>\n",
       "  <tbody>\n",
       "    <tr>\n",
       "      <th>carID</th>\n",
       "      <td>9.00</td>\n",
       "      <td>12.00</td>\n",
       "      <td>15.00</td>\n",
       "      <td>18.00</td>\n",
       "      <td>19.00</td>\n",
       "      <td>22</td>\n",
       "      <td>24.00</td>\n",
       "    </tr>\n",
       "    <tr>\n",
       "      <th>speed2</th>\n",
       "      <td>103.73</td>\n",
       "      <td>87.24</td>\n",
       "      <td>76.84</td>\n",
       "      <td>97.54</td>\n",
       "      <td>76.84</td>\n",
       "      <td>81</td>\n",
       "      <td>69.68</td>\n",
       "    </tr>\n",
       "    <tr>\n",
       "      <th>asma</th>\n",
       "      <td>72.88</td>\n",
       "      <td>45.40</td>\n",
       "      <td>28.07</td>\n",
       "      <td>62.56</td>\n",
       "      <td>28.07</td>\n",
       "      <td>35</td>\n",
       "      <td>16.13</td>\n",
       "    </tr>\n",
       "    <tr>\n",
       "      <th>ceza_tutar</th>\n",
       "      <td>6440.00</td>\n",
       "      <td>3136.00</td>\n",
       "      <td>1508.50</td>\n",
       "      <td>6440.00</td>\n",
       "      <td>1508.50</td>\n",
       "      <td>3136</td>\n",
       "      <td>1508.50</td>\n",
       "    </tr>\n",
       "    <tr>\n",
       "      <th>hesaplanan_asma</th>\n",
       "      <td>50.00</td>\n",
       "      <td>30.00</td>\n",
       "      <td>10.00</td>\n",
       "      <td>50.00</td>\n",
       "      <td>10.00</td>\n",
       "      <td>30</td>\n",
       "      <td>10.00</td>\n",
       "    </tr>\n",
       "  </tbody>\n",
       "</table>\n",
       "</div>"
      ],
      "text/plain": [
       "                       1        2        3        4        5     6        7\n",
       "0                                                                          \n",
       "carID               9.00    12.00    15.00    18.00    19.00    22    24.00\n",
       "speed2            103.73    87.24    76.84    97.54    76.84    81    69.68\n",
       "asma               72.88    45.40    28.07    62.56    28.07    35    16.13\n",
       "ceza_tutar       6440.00  3136.00  1508.50  6440.00  1508.50  3136  1508.50\n",
       "hesaplanan_asma    50.00    30.00    10.00    50.00    10.00    30    10.00"
      ]
     },
     "execution_count": 63,
     "metadata": {},
     "output_type": "execute_result"
    }
   ],
   "source": [
    "df2"
   ]
  },
  {
   "cell_type": "code",
   "execution_count": 70,
   "id": "8b8a5ca5-a85a-4fa5-8d67-01f52a1f99c0",
   "metadata": {},
   "outputs": [
    {
     "name": "stdout",
     "output_type": "stream",
     "text": [
      "9.0 numarali arac 9.0 Km/h ile hiz sinirini %9.0 oraninda asmistir.\n",
      "\t9.0 numarali aracin hiz sinirini %9.0'den fazla astigi tespit edildiginden dolayi cezai islem uygulanmistir.\n",
      "\tYazilan ceza tutari:9.0 TL.\n"
     ]
    },
    {
     "name": "stderr",
     "output_type": "stream",
     "text": [
      "/tmp/ipykernel_19099/785623018.py:1: FutureWarning: Series.__getitem__ treating keys as positions is deprecated. In a future version, integer keys will always be treated as labels (consistent with DataFrame behavior). To access a value by position, use `ser.iloc[pos]`\n",
      "  print(f\"\"\"{df2[1][0]} numarali arac {df2[1][0]} Km/h ile hiz sinirini %{df2[1][0]} oraninda asmistir.\n",
      "/tmp/ipykernel_19099/785623018.py:2: FutureWarning: Series.__getitem__ treating keys as positions is deprecated. In a future version, integer keys will always be treated as labels (consistent with DataFrame behavior). To access a value by position, use `ser.iloc[pos]`\n",
      "  {df2[1][0]} numarali aracin hiz sinirini %{df2[1][0]}'den fazla astigi tespit edildiginden dolayi cezai islem uygulanmistir.\n",
      "/tmp/ipykernel_19099/785623018.py:3: FutureWarning: Series.__getitem__ treating keys as positions is deprecated. In a future version, integer keys will always be treated as labels (consistent with DataFrame behavior). To access a value by position, use `ser.iloc[pos]`\n",
      "  Yazilan ceza tutari:{df2[1][0]} TL.\"\"\")\n"
     ]
    }
   ],
   "source": [
    "print(f\"\"\"{df2[1][0]} numarali arac {df2[1][0]} Km/h ile hiz sinirini %{df2[1][0]} oraninda asmistir.\n",
    "\t{df2[1][0]} numarali aracin hiz sinirini %{df2[1][0]}'den fazla astigi tespit edildiginden dolayi cezai islem uygulanmistir.\n",
    "\tYazilan ceza tutari:{df2[1][0]} TL.\"\"\")"
   ]
  },
  {
   "cell_type": "code",
   "execution_count": 79,
   "id": "7a664882-705f-43d1-bd62-5198722d2e08",
   "metadata": {},
   "outputs": [
    {
     "name": "stdout",
     "output_type": "stream",
     "text": [
      "speed2\n",
      "103.73\n",
      "87.24\n",
      "76.84\n",
      "97.54\n",
      "76.84\n",
      "81.0\n"
     ]
    }
   ],
   "source": [
    "for i in range(len(df2.columns)):\n",
    "    print(df[i].iloc[1])"
   ]
  },
  {
   "cell_type": "code",
   "execution_count": null,
   "id": "66862174-8655-4b62-978c-17705682b496",
   "metadata": {},
   "outputs": [],
   "source": []
  }
 ],
 "metadata": {
  "kernelspec": {
   "display_name": "Python 3 (ipykernel)",
   "language": "python",
   "name": "python3"
  },
  "language_info": {
   "codemirror_mode": {
    "name": "ipython",
    "version": 3
   },
   "file_extension": ".py",
   "mimetype": "text/x-python",
   "name": "python",
   "nbconvert_exporter": "python",
   "pygments_lexer": "ipython3",
   "version": "3.11.7"
  }
 },
 "nbformat": 4,
 "nbformat_minor": 5
}
