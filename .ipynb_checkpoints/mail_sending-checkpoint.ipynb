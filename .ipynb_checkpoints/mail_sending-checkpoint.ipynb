{
 "cells": [
  {
   "cell_type": "code",
   "execution_count": 1,
   "id": "beee5a56-0150-4b99-8b59-a6d11e4e0694",
   "metadata": {},
   "outputs": [],
   "source": [
    "import pandas as pd \n",
    "import numpy as np\n",
    "import smtplib"
   ]
  },
  {
   "cell_type": "code",
   "execution_count": 3,
   "id": "60b251ce-8578-46f8-ba67-eac90d4f2661",
   "metadata": {},
   "outputs": [],
   "source": [
    "veri=pd.read_excel(\"kayitlar.xlsx\")\n",
    "veri.pop(\"Unnamed: 0\")\n",
    "veri.columns=[\"Degerler\"]\n",
    "veri=pd.Series(veri[\"Degerler\"]).unique()"
   ]
  },
  {
   "cell_type": "code",
   "execution_count": 9,
   "id": "a89a4ea5-37d2-4041-aa23-2f0e4ac949c7",
   "metadata": {},
   "outputs": [],
   "source": [
    "def mail(carID,speed2,asma,ceza_tutar,hesaplanan_asma):\n",
    "    email=\"birkullanicix@gmail.com\"\n",
    "    receiver_email=\"birkullanicix@gmail.com\"\n",
    "    subject=\"Hiz siniri asma cezasi\"\n",
    "    message=f\"\"\"        {carID} numarali arac {speed2} Km/h ile hiz sinirini %{asma} oraninda asmistir.\n",
    "\t{carID} numarali aracin hiz sinirini %{hesaplanan_asma}'den fazla astigi tespit edildiginden dolayi cezai islem uygulanmistir.\n",
    "\tYazilan ceza tutari:{ceza_tutar} TL.\"\"\"\n",
    "    text=f\"Subject:{subject}\\n\\n{message}\"\n",
    "    server=smtplib.SMTP(\"smtp.gmail.com\",587)\n",
    "    server.starttls()\n",
    "    server.login(email,\"wrrt pxqr pyib nzcs\")\n",
    "    server.sendmail(email,receiver_email,text)\n",
    "    print(\"Ceza mail'i gönderilmiştir.\")"
   ]
  },
  {
   "cell_type": "code",
   "execution_count": 4,
   "id": "d172ef73-14c4-49a4-8793-a2f72b239a19",
   "metadata": {},
   "outputs": [
    {
     "name": "stdout",
     "output_type": "stream",
     "text": [
      "['10', '65.3', \"'30.61'\", '3136.0', '30']\n",
      "['7', '65.3', \"'30.61'\", '3136.0', '30']\n",
      "['11', '65.3', \"'30.61'\", '3136.0', '30']\n",
      "['12', '65.3', \"'30.61'\", '3136.0', '30']\n",
      "['21', '79.78', \"'59.55'\", '6440.0', '50']\n",
      "['24', '79.78', \"'59.55'\", '6440.0', '50']\n",
      "['31', '57.28', \"'14.55'\", '1508.5', '10']\n",
      "['32', '57.28', \"'14.55'\", '1508.5', '10']\n",
      "['35', '57.28', \"'14.55'\", '1508.5', '10']\n",
      "['33', '57.28', \"'14.55'\", '1508.5', '10']\n",
      "['40', '57.28', \"'14.55'\", '1508.5', '10']\n",
      "['39', '57.28', \"'14.55'\", '1508.5', '10']\n",
      "['39', '58.97', \"'17.94'\", '1508.5', '10']\n",
      "['38', '58.97', \"'17.94'\", '1508.5', '10']\n",
      "['41', '58.97', \"'17.94'\", '1508.5', '10']\n",
      "['41', '65.3', \"'30.61'\", '3136.0', '30']\n",
      "['43', '58.41', \"'16.82'\", '1508.5', '10']\n",
      "['42', '58.41', \"'16.82'\", '1508.5', '10']\n",
      "['44', '58.41', \"'16.82'\", '1508.5', '10']\n",
      "['46', '69.68', \"'39.36'\", '3136.0', '30']\n",
      "['47', '69.68', \"'39.36'\", '3136.0', '30']\n",
      "['49', '63.26', \"'26.53'\", '1508.5', '10']\n",
      "['49', '61.69', \"'23.38'\", '1508.5', '10']\n",
      "['52', '63.26', \"'26.53'\", '1508.5', '10']\n",
      "['54', '63.26', \"'26.53'\", '1508.5', '10']\n",
      "['56', '87.61', \"'75.23'\", '6440.0', '50']\n",
      "['59', '87.61', \"'75.23'\", '6440.0', '50']\n",
      "['59', '76.84', \"'53.69'\", '6440.0', '50']\n",
      "['68', '69.21', \"'38.41'\", '3136.0', '30']\n",
      "['69', '69.21', \"'38.41'\", '3136.0', '30']\n",
      "['69', '94.81', \"'89.62'\", '6440.0', '50']\n",
      "['71', '61.69', \"'23.38'\", '1508.5', '10']\n",
      "['70', '61.69', \"'23.38'\", '1508.5', '10']\n",
      "['73', '61.69', \"'23.38'\", '1508.5', '10']\n",
      "['75', '61.69', \"'23.38'\", '1508.5', '10']\n",
      "['75', '90.56', \"'81.12'\", '6440.0', '50']\n",
      "['75', '74.68', \"'49.36'\", '3136.0', '30']\n",
      "['76', '61.69', \"'23.38'\", '1508.5', '10']\n",
      "['76', '90.56', \"'81.12'\", '6440.0', '50']\n"
     ]
    }
   ],
   "source": [
    "j=list()\n",
    "for i in veri:\n",
    "    vi=i.split()\n",
    "    j.append(vi)\n",
    "for i in j:\n",
    "    i[0]=i[0].replace(\"[\",\"\")\n",
    "    i[-1]=i[-1].replace(\"]\",\"\")\n",
    "    mail(i[0],i[1],i[2],i[3],i[4])"
   ]
  }
 ],
 "metadata": {
  "kernelspec": {
   "display_name": "Python 3 (ipykernel)",
   "language": "python",
   "name": "python3"
  },
  "language_info": {
   "codemirror_mode": {
    "name": "ipython",
    "version": 3
   },
   "file_extension": ".py",
   "mimetype": "text/x-python",
   "name": "python",
   "nbconvert_exporter": "python",
   "pygments_lexer": "ipython3",
   "version": "3.11.7"
  }
 },
 "nbformat": 4,
 "nbformat_minor": 5
}
