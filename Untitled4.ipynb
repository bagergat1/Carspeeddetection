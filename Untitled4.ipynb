{
 "cells": [
  {
   "cell_type": "code",
   "execution_count": 1,
   "id": "0f8e288a-b554-43a2-a1ed-8c53071b7ead",
   "metadata": {},
   "outputs": [],
   "source": [
    "import pandas as pd\n",
    "import numpy as np\n",
    "import matplotlib.pyplot as plt\n",
    "\n",
    "inf=pd.read_excel(\"ceza_almayan_araclar.xlsx\")"
   ]
  },
  {
   "cell_type": "code",
   "execution_count": 2,
   "id": "97d16daf-8d69-4e16-b273-00a917dc0c68",
   "metadata": {},
   "outputs": [
    {
     "data": {
      "text/html": [
       "<div>\n",
       "<style scoped>\n",
       "    .dataframe tbody tr th:only-of-type {\n",
       "        vertical-align: middle;\n",
       "    }\n",
       "\n",
       "    .dataframe tbody tr th {\n",
       "        vertical-align: top;\n",
       "    }\n",
       "\n",
       "    .dataframe thead th {\n",
       "        text-align: right;\n",
       "    }\n",
       "</style>\n",
       "<table border=\"1\" class=\"dataframe\">\n",
       "  <thead>\n",
       "    <tr style=\"text-align: right;\">\n",
       "      <th></th>\n",
       "      <th>Unnamed: 0</th>\n",
       "      <th>0</th>\n",
       "    </tr>\n",
       "  </thead>\n",
       "  <tbody>\n",
       "    <tr>\n",
       "      <th>0</th>\n",
       "      <td>0</td>\n",
       "      <td>42.720019</td>\n",
       "    </tr>\n",
       "    <tr>\n",
       "      <th>1</th>\n",
       "      <td>1</td>\n",
       "      <td>45.276926</td>\n",
       "    </tr>\n",
       "    <tr>\n",
       "      <th>2</th>\n",
       "      <td>2</td>\n",
       "      <td>35.355339</td>\n",
       "    </tr>\n",
       "    <tr>\n",
       "      <th>3</th>\n",
       "      <td>3</td>\n",
       "      <td>40.000000</td>\n",
       "    </tr>\n",
       "    <tr>\n",
       "      <th>4</th>\n",
       "      <td>4</td>\n",
       "      <td>35.000000</td>\n",
       "    </tr>\n",
       "    <tr>\n",
       "      <th>5</th>\n",
       "      <td>5</td>\n",
       "      <td>46.097722</td>\n",
       "    </tr>\n",
       "    <tr>\n",
       "      <th>6</th>\n",
       "      <td>6</td>\n",
       "      <td>47.434165</td>\n",
       "    </tr>\n",
       "    <tr>\n",
       "      <th>7</th>\n",
       "      <td>7</td>\n",
       "      <td>36.400549</td>\n",
       "    </tr>\n",
       "    <tr>\n",
       "      <th>8</th>\n",
       "      <td>8</td>\n",
       "      <td>31.622777</td>\n",
       "    </tr>\n",
       "    <tr>\n",
       "      <th>9</th>\n",
       "      <td>9</td>\n",
       "      <td>44.721360</td>\n",
       "    </tr>\n",
       "    <tr>\n",
       "      <th>10</th>\n",
       "      <td>10</td>\n",
       "      <td>43.011626</td>\n",
       "    </tr>\n",
       "    <tr>\n",
       "      <th>11</th>\n",
       "      <td>11</td>\n",
       "      <td>47.169906</td>\n",
       "    </tr>\n",
       "    <tr>\n",
       "      <th>12</th>\n",
       "      <td>12</td>\n",
       "      <td>30.000000</td>\n",
       "    </tr>\n",
       "    <tr>\n",
       "      <th>13</th>\n",
       "      <td>13</td>\n",
       "      <td>41.231056</td>\n",
       "    </tr>\n",
       "    <tr>\n",
       "      <th>14</th>\n",
       "      <td>14</td>\n",
       "      <td>32.015621</td>\n",
       "    </tr>\n",
       "  </tbody>\n",
       "</table>\n",
       "</div>"
      ],
      "text/plain": [
       "    Unnamed: 0          0\n",
       "0            0  42.720019\n",
       "1            1  45.276926\n",
       "2            2  35.355339\n",
       "3            3  40.000000\n",
       "4            4  35.000000\n",
       "5            5  46.097722\n",
       "6            6  47.434165\n",
       "7            7  36.400549\n",
       "8            8  31.622777\n",
       "9            9  44.721360\n",
       "10          10  43.011626\n",
       "11          11  47.169906\n",
       "12          12  30.000000\n",
       "13          13  41.231056\n",
       "14          14  32.015621"
      ]
     },
     "execution_count": 2,
     "metadata": {},
     "output_type": "execute_result"
    }
   ],
   "source": [
    "inf"
   ]
  },
  {
   "cell_type": "code",
   "execution_count": 3,
   "id": "2f8ddf62-2718-4b8e-bf33-2a325204da0f",
   "metadata": {},
   "outputs": [
    {
     "data": {
      "text/plain": [
       "0      0\n",
       "1      1\n",
       "2      2\n",
       "3      3\n",
       "4      4\n",
       "5      5\n",
       "6      6\n",
       "7      7\n",
       "8      8\n",
       "9      9\n",
       "10    10\n",
       "11    11\n",
       "12    12\n",
       "13    13\n",
       "14    14\n",
       "Name: Unnamed: 0, dtype: int64"
      ]
     },
     "execution_count": 3,
     "metadata": {},
     "output_type": "execute_result"
    }
   ],
   "source": [
    "inf.pop(\"Unnamed: 0\")"
   ]
  },
  {
   "cell_type": "code",
   "execution_count": 4,
   "id": "c6d73a29-6584-46fe-b0ca-d5b50d7e6e1e",
   "metadata": {},
   "outputs": [
    {
     "data": {
      "text/html": [
       "<div>\n",
       "<style scoped>\n",
       "    .dataframe tbody tr th:only-of-type {\n",
       "        vertical-align: middle;\n",
       "    }\n",
       "\n",
       "    .dataframe tbody tr th {\n",
       "        vertical-align: top;\n",
       "    }\n",
       "\n",
       "    .dataframe thead th {\n",
       "        text-align: right;\n",
       "    }\n",
       "</style>\n",
       "<table border=\"1\" class=\"dataframe\">\n",
       "  <thead>\n",
       "    <tr style=\"text-align: right;\">\n",
       "      <th></th>\n",
       "      <th>0</th>\n",
       "    </tr>\n",
       "  </thead>\n",
       "  <tbody>\n",
       "    <tr>\n",
       "      <th>0</th>\n",
       "      <td>42.720019</td>\n",
       "    </tr>\n",
       "    <tr>\n",
       "      <th>1</th>\n",
       "      <td>45.276926</td>\n",
       "    </tr>\n",
       "    <tr>\n",
       "      <th>2</th>\n",
       "      <td>35.355339</td>\n",
       "    </tr>\n",
       "    <tr>\n",
       "      <th>3</th>\n",
       "      <td>40.000000</td>\n",
       "    </tr>\n",
       "    <tr>\n",
       "      <th>4</th>\n",
       "      <td>35.000000</td>\n",
       "    </tr>\n",
       "    <tr>\n",
       "      <th>5</th>\n",
       "      <td>46.097722</td>\n",
       "    </tr>\n",
       "    <tr>\n",
       "      <th>6</th>\n",
       "      <td>47.434165</td>\n",
       "    </tr>\n",
       "    <tr>\n",
       "      <th>7</th>\n",
       "      <td>36.400549</td>\n",
       "    </tr>\n",
       "    <tr>\n",
       "      <th>8</th>\n",
       "      <td>31.622777</td>\n",
       "    </tr>\n",
       "    <tr>\n",
       "      <th>9</th>\n",
       "      <td>44.721360</td>\n",
       "    </tr>\n",
       "    <tr>\n",
       "      <th>10</th>\n",
       "      <td>43.011626</td>\n",
       "    </tr>\n",
       "    <tr>\n",
       "      <th>11</th>\n",
       "      <td>47.169906</td>\n",
       "    </tr>\n",
       "    <tr>\n",
       "      <th>12</th>\n",
       "      <td>30.000000</td>\n",
       "    </tr>\n",
       "    <tr>\n",
       "      <th>13</th>\n",
       "      <td>41.231056</td>\n",
       "    </tr>\n",
       "    <tr>\n",
       "      <th>14</th>\n",
       "      <td>32.015621</td>\n",
       "    </tr>\n",
       "  </tbody>\n",
       "</table>\n",
       "</div>"
      ],
      "text/plain": [
       "            0\n",
       "0   42.720019\n",
       "1   45.276926\n",
       "2   35.355339\n",
       "3   40.000000\n",
       "4   35.000000\n",
       "5   46.097722\n",
       "6   47.434165\n",
       "7   36.400549\n",
       "8   31.622777\n",
       "9   44.721360\n",
       "10  43.011626\n",
       "11  47.169906\n",
       "12  30.000000\n",
       "13  41.231056\n",
       "14  32.015621"
      ]
     },
     "execution_count": 4,
     "metadata": {},
     "output_type": "execute_result"
    }
   ],
   "source": [
    "inf"
   ]
  },
  {
   "cell_type": "code",
   "execution_count": 5,
   "id": "f447b2cf-9c1c-46c1-bace-c4787d147c5e",
   "metadata": {},
   "outputs": [
    {
     "data": {
      "text/plain": [
       "<BarContainer object of 15 artists>"
      ]
     },
     "execution_count": 5,
     "metadata": {},
     "output_type": "execute_result"
    },
    {
     "data": {
      "image/png": "[encoded data removed]",
      "text/plain": [
       "<Figure size 640x480 with 1 Axes>"
      ]
     },
     "metadata": {},
     "output_type": "display_data"
    }
   ],
   "source": [
    "plt.bar([i for i in range(len(np.array(inf[0])))],np.array(inf[0]),color=\"red\")"
   ]
  },
  {
   "cell_type": "code",
   "execution_count": 12,
   "id": "f4807248-b0e3-4555-a809-820cfd23e45c",
   "metadata": {},
   "outputs": [],
   "source": [
    "betw=dict()\n",
    "liste=list()\n",
    "def countme(veri,x,y):\n",
    "    for i in veri:\n",
    "        if i-x<10 and i-x>=0:\n",
    "            y+=1\n",
    "            key=\"{x}-{u}\".format(x=x,u=x+10)\n",
    "            betw[key]=y\n",
    "    liste.append(betw)"
   ]
  },
  {
   "cell_type": "code",
   "execution_count": 13,
   "id": "4e81bd7a-11c3-4ec7-8421-9075370098b5",
   "metadata": {},
   "outputs": [
    {
     "data": {
      "text/plain": [
       "{'40-50': 9}"
      ]
     },
     "execution_count": 13,
     "metadata": {},
     "output_type": "execute_result"
    }
   ],
   "source": [
    "countme(inf[0],x,y)\n",
    "betw"
   ]
  },
  {
   "cell_type": "code",
   "execution_count": 14,
   "id": "0ab79a81-d285-49d6-8509-1bd5d2b8d78c",
   "metadata": {},
   "outputs": [
    {
     "data": {
      "text/plain": [
       "'40-50'"
      ]
     },
     "execution_count": 14,
     "metadata": {},
     "output_type": "execute_result"
    }
   ],
   "source": [
    "\"{x}-{u}\".format(x=x,u=x+10)"
   ]
  },
  {
   "cell_type": "code",
   "execution_count": 15,
   "id": "b2b8250b-3666-4075-b62b-27fcd886a39f",
   "metadata": {},
   "outputs": [],
   "source": [
    "speedlimit=53\n",
    "betw=dict()\n",
    "y=0\n",
    "x=30\n",
    "while True:\n",
    "    countme(inf[0],x,y)\n",
    "    x+=10\n",
    "    if speedlimit>=y:\n",
    "        break"
   ]
  },
  {
   "cell_type": "code",
   "execution_count": 16,
   "id": "d5a62240-13d1-4c7a-9119-ded8588618c3",
   "metadata": {},
   "outputs": [
    {
     "data": {
      "text/plain": [
       "[{'40-50': 9}, {'30-40': 6}]"
      ]
     },
     "execution_count": 16,
     "metadata": {},
     "output_type": "execute_result"
    }
   ],
   "source": [
    "liste"
   ]
  },
  {
   "cell_type": "code",
   "execution_count": 106,
   "id": "c0c6301b-4398-42c7-89ce-e62ce265326c",
   "metadata": {},
   "outputs": [],
   "source": [
    "liste2=list()\n",
    "liste3=list()\n",
    "for i in liste:\n",
    "    a=i.keys()\n",
    "    a=str(a)\n",
    "    a=a.split(\"'\")\n",
    "    liste2.append(a[1])\n",
    "    b=i.values()\n",
    "    b=str(b)\n",
    "    b=b.split(\"[\")[1]\n",
    "    b=int(b.split(\"]\")[0])\n",
    "    liste3.append(b)"
   ]
  },
  {
   "cell_type": "code",
   "execution_count": 107,
   "id": "31e98ef1-73b3-4759-9c30-dce45b650346",
   "metadata": {},
   "outputs": [
    {
     "data": {
      "text/plain": [
       "['40-50', '30-40']"
      ]
     },
     "execution_count": 107,
     "metadata": {},
     "output_type": "execute_result"
    }
   ],
   "source": [
    "liste2"
   ]
  },
  {
   "cell_type": "code",
   "execution_count": 108,
   "id": "20cb1e21-496a-48df-876b-30eff4f94705",
   "metadata": {},
   "outputs": [
    {
     "data": {
      "text/plain": [
       "6"
      ]
     },
     "execution_count": 108,
     "metadata": {},
     "output_type": "execute_result"
    }
   ],
   "source": [
    "b"
   ]
  },
  {
   "cell_type": "code",
   "execution_count": 109,
   "id": "8f113c5a-1f18-41f6-bdc8-3a1a8ca83f9c",
   "metadata": {},
   "outputs": [
    {
     "data": {
      "text/plain": [
       "['40-50', '30-40']"
      ]
     },
     "execution_count": 109,
     "metadata": {},
     "output_type": "execute_result"
    }
   ],
   "source": [
    "liste2"
   ]
  },
  {
   "cell_type": "code",
   "execution_count": 110,
   "id": "9e3889e8-8bdd-4de5-bc1c-78e22ef8b759",
   "metadata": {},
   "outputs": [
    {
     "data": {
      "text/plain": [
       "[9, 6]"
      ]
     },
     "execution_count": 110,
     "metadata": {},
     "output_type": "execute_result"
    }
   ],
   "source": [
    "liste3"
   ]
  },
  {
   "cell_type": "code",
   "execution_count": 111,
   "id": "4226e2b1-c2f1-4ed7-9404-77b7fd73f558",
   "metadata": {},
   "outputs": [
    {
     "data": {
      "text/plain": [
       "([<matplotlib.patches.Wedge at 0x7f16c4c32e90>,\n",
       "  <matplotlib.patches.Wedge at 0x7f16c4a53550>],\n",
       " [Text(-0.33991877217145816, 1.046162142464278, '40-50'),\n",
       "  Text(0.3399188701202255, -1.046162110638781, '30-40')])"
      ]
     },
     "execution_count": 111,
     "metadata": {},
     "output_type": "execute_result"
    },
    {
     "data": {
      "image/png": "[encoded data removed]",
      "text/plain": [
       "<Figure size 640x480 with 1 Axes>"
      ]
     },
     "metadata": {},
     "output_type": "display_data"
    }
   ],
   "source": [
    "plt.pie(liste3,labels=liste2)"
   ]
  },
  {
   "cell_type": "code",
   "execution_count": null,
   "id": "94f7310c-6bdd-47f8-9507-75455b09223b",
   "metadata": {},
   "outputs": [],
   "source": []
  },
  {
   "cell_type": "code",
   "execution_count": 113,
   "id": "2c63c6c7-0010-45e8-adde-4a1ade1f2206",
   "metadata": {},
   "outputs": [
    {
     "ename": "IndexError",
     "evalue": "too many indices for array: array is 1-dimensional, but 2 were indexed",
     "output_type": "error",
     "traceback": [
      "\u001b[0;31m---------------------------------------------------------------------------\u001b[0m",
      "\u001b[0;31mIndexError\u001b[0m                                Traceback (most recent call last)",
      "Cell \u001b[0;32mIn[113], line 4\u001b[0m\n\u001b[1;32m      2\u001b[0m fig\u001b[38;5;241m.\u001b[39mtight_layout() \u001b[38;5;66;03m# Or equivalently,  \"plt.tight_layout()\"\u001b[39;00m\n\u001b[1;32m      3\u001b[0m plt\u001b[38;5;241m.\u001b[39msubplots_adjust(hspace\u001b[38;5;241m=\u001b[39m\u001b[38;5;241m0.2\u001b[39m, wspace\u001b[38;5;241m=\u001b[39m\u001b[38;5;241m0.2\u001b[39m)\n\u001b[0;32m----> 4\u001b[0m axes[\u001b[38;5;241m0\u001b[39m,\u001b[38;5;241m0\u001b[39m]\u001b[38;5;241m.\u001b[39mbar([i \u001b[38;5;28;01mfor\u001b[39;00m i \u001b[38;5;129;01min\u001b[39;00m \u001b[38;5;28mrange\u001b[39m(\u001b[38;5;28mlen\u001b[39m(np\u001b[38;5;241m.\u001b[39marray(inf[\u001b[38;5;241m0\u001b[39m])))],np\u001b[38;5;241m.\u001b[39marray(inf[\u001b[38;5;241m0\u001b[39m]),color\u001b[38;5;241m=\u001b[39m\u001b[38;5;124m\"\u001b[39m\u001b[38;5;124mred\u001b[39m\u001b[38;5;124m\"\u001b[39m)\n\u001b[1;32m      5\u001b[0m axes[\u001b[38;5;241m0\u001b[39m,\u001b[38;5;241m0\u001b[39m]\u001b[38;5;241m.\u001b[39mset_xlabel(\u001b[38;5;124m\"\u001b[39m\u001b[38;5;124mAraç No\u001b[39m\u001b[38;5;124m\"\u001b[39m)\n\u001b[1;32m      6\u001b[0m axes[\u001b[38;5;241m0\u001b[39m,\u001b[38;5;241m0\u001b[39m]\u001b[38;5;241m.\u001b[39mset_ylabel(\u001b[38;5;124m\"\u001b[39m\u001b[38;5;124mAraçların Hızı\u001b[39m\u001b[38;5;124m\"\u001b[39m)\n",
      "\u001b[0;31mIndexError\u001b[0m: too many indices for array: array is 1-dimensional, but 2 were indexed"
     ]
    },
    {
     "data": {
      "image/png": "[encoded data removed]",
      "text/plain": [
       "<Figure size 1500x1200 with 2 Axes>"
      ]
     },
     "metadata": {},
     "output_type": "display_data"
    }
   ],
   "source": [
    "fig, axes = plt.subplots(nrows=2, ncols=1, figsize=(15, 12))\n",
    "fig.tight_layout() # Or equivalently,  \"plt.tight_layout()\"\n",
    "plt.subplots_adjust(hspace=0.2, wspace=0.2)\n",
    "axes[0,0].bar([i for i in range(len(np.array(inf[0])))],np.array(inf[0]),color=\"red\")\n",
    "axes[0,0].set_xlabel(\"Araç No\")\n",
    "axes[0,0].set_ylabel(\"Araçların Hızı\")\n",
    "axes[0,0].set_title(\"Araçların Hız Grafikleri\")\n",
    "\n",
    "axes[1,0].pie(liste3,labels=liste2)\n"
   ]
  },
  {
   "cell_type": "code",
   "execution_count": null,
   "id": "8905cf5c-3d24-4af6-8afc-c57cab76a947",
   "metadata": {},
   "outputs": [],
   "source": []
  },
  {
   "cell_type": "code",
   "execution_count": 123,
   "id": "9940958b-d8ac-4829-97d7-0cdd86e6a0b0",
   "metadata": {},
   "outputs": [
    {
     "data": {
      "image/png": "[encoded data removed]",
      "text/plain": [
       "<Figure size 800x300 with 2 Axes>"
      ]
     },
     "metadata": {},
     "output_type": "display_data"
    }
   ],
   "source": [
    "fig, axes = plt.subplots(nrows=1, ncols=2, figsize=(8, 3))\n",
    "fig.tight_layout() # Or equivalently,  \"plt.tight_layout()\"\n",
    "plt.subplots_adjust(hspace=0.2, wspace=0.2)\n",
    "\n",
    "plt.subplot(1,2,2)\n",
    "plt.pie(liste3,labels=liste2)\n",
    "plt.subplot(1,2,1)\n",
    "plt.bar([i for i in range(len(np.array(inf[0])))],np.array(inf[0]),color=\"red\")\n",
    "plt.show()"
   ]
  },
  {
   "cell_type": "code",
   "execution_count": null,
   "id": "f6a7175d-4457-47ea-b58a-670d442c4ff7",
   "metadata": {},
   "outputs": [],
   "source": []
  }
 ],
 "metadata": {
  "kernelspec": {
   "display_name": "Python 3 (ipykernel)",
   "language": "python",
   "name": "python3"
  },
  "language_info": {
   "codemirror_mode": {
    "name": "ipython",
    "version": 3
   },
   "file_extension": ".py",
   "mimetype": "text/x-python",
   "name": "python",
   "nbconvert_exporter": "python",
   "pygments_lexer": "ipython3",
   "version": "3.11.7"
  }
 },
 "nbformat": 4,
 "nbformat_minor": 5
}
