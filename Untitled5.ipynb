{
 "cells": [
  {
   "cell_type": "code",
   "execution_count": 8,
   "id": "69a53d1a-9768-46ca-a9bb-91d85eaf3f37",
   "metadata": {},
   "outputs": [],
   "source": [
    "import pandas as pd\n",
    "import numpy as np\n",
    "import matplotlib.pyplot as plt"
   ]
  },
  {
   "cell_type": "code",
   "execution_count": 9,
   "id": "446af8fd-643d-4b24-851c-fa6f2902c564",
   "metadata": {},
   "outputs": [],
   "source": [
    "inf=pd.read_excel(\"kayitlarx.xlsx\")"
   ]
  },
  {
   "cell_type": "code",
   "execution_count": 10,
   "id": "6b55f983-653b-4135-95e3-b915e9cf01e4",
   "metadata": {},
   "outputs": [
    {
     "data": {
      "text/plain": [
       "0    0\n",
       "1    1\n",
       "2    2\n",
       "3    3\n",
       "4    4\n",
       "Name: Unnamed: 0, dtype: int64"
      ]
     },
     "execution_count": 10,
     "metadata": {},
     "output_type": "execute_result"
    }
   ],
   "source": [
    "inf.pop(\"Unnamed: 0\")"
   ]
  },
  {
   "cell_type": "code",
   "execution_count": 18,
   "id": "5118ee3d-6025-4f7f-b8bc-733d395fec60",
   "metadata": {},
   "outputs": [
    {
     "data": {
      "text/plain": [
       "0              carID\n",
       "1             speed2\n",
       "2               asma\n",
       "3         ceza_tutar\n",
       "4    hesaplanan_asma\n",
       "Name: 0, dtype: object"
      ]
     },
     "execution_count": 18,
     "metadata": {},
     "output_type": "execute_result"
    }
   ],
   "source": [
    "inf.pop(0)"
   ]
  },
  {
   "cell_type": "code",
   "execution_count": 19,
   "id": "8b181f90-6a79-4234-8682-907e7098700f",
   "metadata": {},
   "outputs": [],
   "source": [
    "inf.to_excel(\"deneme.xlsx\")"
   ]
  },
  {
   "cell_type": "code",
   "execution_count": 20,
   "id": "41027241-8980-48fa-a216-8a02b390c46b",
   "metadata": {},
   "outputs": [
    {
     "data": {
      "text/plain": [
       "Text(0, 0.5, 'Y Ekseni')"
      ]
     },
     "execution_count": 20,
     "metadata": {},
     "output_type": "execute_result"
    },
    {
     "data": {
      "image/png": "[encoded data removed]",
      "text/plain": [
       "<Figure size 640x480 with 1 Axes>"
      ]
     },
     "metadata": {},
     "output_type": "display_data"
    }
   ],
   "source": [
    "fig, ax = plt.subplots()\n",
    "ax.bar([i for i in range(len(np.array(inf.iloc[0])))],np.array(inf.iloc[0]),color=\"red\")  # Örnek veri\n",
    "ax.set_title('Grafik Başlığı')\n",
    "ax.set_xlabel('X Ekseni')\n",
    "ax.set_ylabel('Y Ekseni')"
   ]
  },
  {
   "cell_type": "code",
   "execution_count": null,
   "id": "4397a299-996c-4b65-b351-ad4e9b280dbd",
   "metadata": {},
   "outputs": [],
   "source": []
  }
 ],
 "metadata": {
  "kernelspec": {
   "display_name": "Python 3 (ipykernel)",
   "language": "python",
   "name": "python3"
  },
  "language_info": {
   "codemirror_mode": {
    "name": "ipython",
    "version": 3
   },
   "file_extension": ".py",
   "mimetype": "text/x-python",
   "name": "python",
   "nbconvert_exporter": "python",
   "pygments_lexer": "ipython3",
   "version": "3.11.7"
  }
 },
 "nbformat": 4,
 "nbformat_minor": 5
}
